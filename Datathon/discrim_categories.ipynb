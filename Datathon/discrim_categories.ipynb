{
 "cells": [
  {
   "cell_type": "markdown",
   "source": [
    "## Classifying each state into categories based on GDP, health, education, employment, and crime"
   ],
   "metadata": {
    "collapsed": false,
    "pycharm": {
     "name": "#%% md\n"
    }
   }
  },
  {
   "cell_type": "code",
   "execution_count": 116,
   "outputs": [],
   "source": [
    "# Importing the libraries\n",
    "import numpy as np\n",
    "import matplotlib.pyplot as plt\n",
    "import pandas as pd\n",
    "import seaborn as sns\n",
    "%matplotlib inline"
   ],
   "metadata": {
    "collapsed": false,
    "pycharm": {
     "name": "#%%\n"
    }
   }
  },
  {
   "cell_type": "code",
   "execution_count": 117,
   "outputs": [],
   "source": [
    "# Importing the dataset\n",
    "gdp= pd.read_csv('State_GDP_2014_2018.csv', delimiter=',')\n",
    "unemp= pd.read_csv('State_Unemployment_2014_2018.csv', delimiter=';', decimal=\",\")\n",
    "health= pd.read_csv('State_Health_2014_2018.csv', delimiter=';', decimal=\",\")\n",
    "edu= pd.read_csv('State_Educational_Attainment_2014_2018.csv', delimiter=';')\n",
    "crime= pd.read_csv('State_CrimeRates_per100k_2014_2018.csv', delimiter=';')\n",
    "\n",
    "statecodes= pd.read_csv('StateCodes.csv')"
   ],
   "metadata": {
    "collapsed": false,
    "pycharm": {
     "name": "#%%\n"
    }
   }
  },
  {
   "cell_type": "code",
   "execution_count": 118,
   "outputs": [
    {
     "data": {
      "text/plain": "        State  Abbrev Code\n0     Alabama    Ala.   AL\n1      Alaska  Alaska   AK\n2     Arizona   Ariz.   AZ\n3    Arkansas    Ark.   AR\n4  California  Calif.   CA",
      "text/html": "<div>\n<style scoped>\n    .dataframe tbody tr th:only-of-type {\n        vertical-align: middle;\n    }\n\n    .dataframe tbody tr th {\n        vertical-align: top;\n    }\n\n    .dataframe thead th {\n        text-align: right;\n    }\n</style>\n<table border=\"1\" class=\"dataframe\">\n  <thead>\n    <tr style=\"text-align: right;\">\n      <th></th>\n      <th>State</th>\n      <th>Abbrev</th>\n      <th>Code</th>\n    </tr>\n  </thead>\n  <tbody>\n    <tr>\n      <th>0</th>\n      <td>Alabama</td>\n      <td>Ala.</td>\n      <td>AL</td>\n    </tr>\n    <tr>\n      <th>1</th>\n      <td>Alaska</td>\n      <td>Alaska</td>\n      <td>AK</td>\n    </tr>\n    <tr>\n      <th>2</th>\n      <td>Arizona</td>\n      <td>Ariz.</td>\n      <td>AZ</td>\n    </tr>\n    <tr>\n      <th>3</th>\n      <td>Arkansas</td>\n      <td>Ark.</td>\n      <td>AR</td>\n    </tr>\n    <tr>\n      <th>4</th>\n      <td>California</td>\n      <td>Calif.</td>\n      <td>CA</td>\n    </tr>\n  </tbody>\n</table>\n</div>"
     },
     "execution_count": 118,
     "metadata": {},
     "output_type": "execute_result"
    }
   ],
   "source": [
    "statecodes.head()"
   ],
   "metadata": {
    "collapsed": false,
    "pycharm": {
     "name": "#%%\n"
    }
   }
  },
  {
   "cell_type": "code",
   "execution_count": 119,
   "outputs": [],
   "source": [
    "dfs=[gdp, unemp, health, edu, crime]\n",
    "for d in dfs:\n",
    "    d.sort_values(by='State', inplace=True)\n",
    "    d.reset_index(inplace=True, drop=True)\n",
    "    d['State']=statecodes['Code'].copy()"
   ],
   "metadata": {
    "collapsed": false,
    "pycharm": {
     "name": "#%%\n"
    }
   }
  },
  {
   "cell_type": "markdown",
   "source": [
    "## Cleaning the Datasets"
   ],
   "metadata": {
    "collapsed": false,
    "pycharm": {
     "name": "#%% md\n"
    }
   }
  },
  {
   "cell_type": "markdown",
   "source": [
    "### GDP"
   ],
   "metadata": {
    "collapsed": false,
    "pycharm": {
     "name": "#%% md\n"
    }
   }
  },
  {
   "cell_type": "code",
   "execution_count": 120,
   "outputs": [
    {
     "data": {
      "text/plain": "  State       2014       2015       2016        2017        2018\n0    AL   759545.3   765340.9   777135.2    790266.5    803203.6\n1    AK   216752.9   218963.4   216986.5    216518.1    212998.4\n2    AZ  1107795.8  1130307.9  1165100.9   1209821.5   1254474.9\n3    AR   446938.0   449403.9   451192.5    455540.6    463750.4\n4    CA  9024218.9  9429811.7  9711578.3  10167077.1  10574305.0",
      "text/html": "<div>\n<style scoped>\n    .dataframe tbody tr th:only-of-type {\n        vertical-align: middle;\n    }\n\n    .dataframe tbody tr th {\n        vertical-align: top;\n    }\n\n    .dataframe thead th {\n        text-align: right;\n    }\n</style>\n<table border=\"1\" class=\"dataframe\">\n  <thead>\n    <tr style=\"text-align: right;\">\n      <th></th>\n      <th>State</th>\n      <th>2014</th>\n      <th>2015</th>\n      <th>2016</th>\n      <th>2017</th>\n      <th>2018</th>\n    </tr>\n  </thead>\n  <tbody>\n    <tr>\n      <th>0</th>\n      <td>AL</td>\n      <td>759545.3</td>\n      <td>765340.9</td>\n      <td>777135.2</td>\n      <td>790266.5</td>\n      <td>803203.6</td>\n    </tr>\n    <tr>\n      <th>1</th>\n      <td>AK</td>\n      <td>216752.9</td>\n      <td>218963.4</td>\n      <td>216986.5</td>\n      <td>216518.1</td>\n      <td>212998.4</td>\n    </tr>\n    <tr>\n      <th>2</th>\n      <td>AZ</td>\n      <td>1107795.8</td>\n      <td>1130307.9</td>\n      <td>1165100.9</td>\n      <td>1209821.5</td>\n      <td>1254474.9</td>\n    </tr>\n    <tr>\n      <th>3</th>\n      <td>AR</td>\n      <td>446938.0</td>\n      <td>449403.9</td>\n      <td>451192.5</td>\n      <td>455540.6</td>\n      <td>463750.4</td>\n    </tr>\n    <tr>\n      <th>4</th>\n      <td>CA</td>\n      <td>9024218.9</td>\n      <td>9429811.7</td>\n      <td>9711578.3</td>\n      <td>10167077.1</td>\n      <td>10574305.0</td>\n    </tr>\n  </tbody>\n</table>\n</div>"
     },
     "execution_count": 120,
     "metadata": {},
     "output_type": "execute_result"
    }
   ],
   "source": [
    "gdp.head()\n",
    "years=['2014','2015','2016','2017','2018']\n",
    "for y in years:\n",
    "    gdp[y]=gdp.loc[:,gdp.columns.str.contains(y)].sum(axis=1)\n",
    "gdp=gdp[['State']+years]\n",
    "gdp.head()\n"
   ],
   "metadata": {
    "collapsed": false,
    "pycharm": {
     "name": "#%%\n"
    }
   }
  },
  {
   "cell_type": "code",
   "execution_count": 121,
   "outputs": [
    {
     "name": "stdout",
     "output_type": "stream",
     "text": [
      "<class 'pandas.core.frame.DataFrame'>\n",
      "RangeIndex: 51 entries, 0 to 50\n",
      "Data columns (total 6 columns):\n",
      " #   Column  Non-Null Count  Dtype  \n",
      "---  ------  --------------  -----  \n",
      " 0   State   51 non-null     object \n",
      " 1   2014    51 non-null     float64\n",
      " 2   2015    51 non-null     float64\n",
      " 3   2016    51 non-null     float64\n",
      " 4   2017    51 non-null     float64\n",
      " 5   2018    51 non-null     float64\n",
      "dtypes: float64(5), object(1)\n",
      "memory usage: 2.5+ KB\n"
     ]
    }
   ],
   "source": [
    "gdp.info()"
   ],
   "metadata": {
    "collapsed": false,
    "pycharm": {
     "name": "#%%\n"
    }
   }
  },
  {
   "cell_type": "markdown",
   "source": [
    "### Unemployment"
   ],
   "metadata": {
    "collapsed": false,
    "pycharm": {
     "name": "#%% md\n"
    }
   }
  },
  {
   "cell_type": "code",
   "execution_count": 122,
   "outputs": [
    {
     "data": {
      "text/plain": "  State  2014  2015  2016  2017  2018\n0    AL   6.8   6.1   5.8   4.4   3.9\n1    AK   6.9   6.5   6.9   7.0   6.6\n2    AZ   6.8   6.1   5.4   4.9   4.8\n3    AR   6.0   5.0   4.0   3.7   3.7\n4    CA   7.5   6.2   5.5   4.8   4.2",
      "text/html": "<div>\n<style scoped>\n    .dataframe tbody tr th:only-of-type {\n        vertical-align: middle;\n    }\n\n    .dataframe tbody tr th {\n        vertical-align: top;\n    }\n\n    .dataframe thead th {\n        text-align: right;\n    }\n</style>\n<table border=\"1\" class=\"dataframe\">\n  <thead>\n    <tr style=\"text-align: right;\">\n      <th></th>\n      <th>State</th>\n      <th>2014</th>\n      <th>2015</th>\n      <th>2016</th>\n      <th>2017</th>\n      <th>2018</th>\n    </tr>\n  </thead>\n  <tbody>\n    <tr>\n      <th>0</th>\n      <td>AL</td>\n      <td>6.8</td>\n      <td>6.1</td>\n      <td>5.8</td>\n      <td>4.4</td>\n      <td>3.9</td>\n    </tr>\n    <tr>\n      <th>1</th>\n      <td>AK</td>\n      <td>6.9</td>\n      <td>6.5</td>\n      <td>6.9</td>\n      <td>7.0</td>\n      <td>6.6</td>\n    </tr>\n    <tr>\n      <th>2</th>\n      <td>AZ</td>\n      <td>6.8</td>\n      <td>6.1</td>\n      <td>5.4</td>\n      <td>4.9</td>\n      <td>4.8</td>\n    </tr>\n    <tr>\n      <th>3</th>\n      <td>AR</td>\n      <td>6.0</td>\n      <td>5.0</td>\n      <td>4.0</td>\n      <td>3.7</td>\n      <td>3.7</td>\n    </tr>\n    <tr>\n      <th>4</th>\n      <td>CA</td>\n      <td>7.5</td>\n      <td>6.2</td>\n      <td>5.5</td>\n      <td>4.8</td>\n      <td>4.2</td>\n    </tr>\n  </tbody>\n</table>\n</div>"
     },
     "execution_count": 122,
     "metadata": {},
     "output_type": "execute_result"
    }
   ],
   "source": [
    "unemp.head()"
   ],
   "metadata": {
    "collapsed": false,
    "pycharm": {
     "name": "#%%\n"
    }
   }
  },
  {
   "cell_type": "code",
   "execution_count": 123,
   "outputs": [
    {
     "name": "stdout",
     "output_type": "stream",
     "text": [
      "<class 'pandas.core.frame.DataFrame'>\n",
      "RangeIndex: 51 entries, 0 to 50\n",
      "Data columns (total 6 columns):\n",
      " #   Column  Non-Null Count  Dtype  \n",
      "---  ------  --------------  -----  \n",
      " 0   State   51 non-null     object \n",
      " 1   2014    51 non-null     float64\n",
      " 2   2015    51 non-null     float64\n",
      " 3   2016    51 non-null     float64\n",
      " 4   2017    51 non-null     float64\n",
      " 5   2018    51 non-null     float64\n",
      "dtypes: float64(5), object(1)\n",
      "memory usage: 2.5+ KB\n"
     ]
    }
   ],
   "source": [
    "unemp.info()"
   ],
   "metadata": {
    "collapsed": false,
    "pycharm": {
     "name": "#%%\n"
    }
   }
  },
  {
   "cell_type": "markdown",
   "source": [
    "### Health"
   ],
   "metadata": {
    "collapsed": false,
    "pycharm": {
     "name": "#%% md\n"
    }
   }
  },
  {
   "cell_type": "code",
   "execution_count": 124,
   "outputs": [
    {
     "name": "stdout",
     "output_type": "stream",
     "text": [
      "   State  2018  2017  2016  2015  2014\n",
      "0     AL  89.8  90.5  90.8  89.8  88.0\n",
      "1     AK  88.0  86.1  85.5  85.5  82.5\n",
      "2     AZ  89.4  90.0  90.0  88.9  86.3\n",
      "3     AR  91.7  92.0  92.0  90.6  88.2\n",
      "4     CA  92.8  92.8  92.6  91.5  87.5\n",
      "5     CO  92.3  92.5  92.3  91.9  89.4\n",
      "6     CT  94.7  94.4  95.1  93.9  93.0\n",
      "7     DE  94.2  94.4  94.2  94.4  92.6\n",
      "8     DC  96.8  96.4  96.0  96.3  94.5\n",
      "9     FL  86.8  87.1  87.5  86.6  83.4\n",
      "10    GA  86.2  86.6  87.1  86.1  84.2\n",
      "11    HI  96.1  96.2  96.5  96.2  95.1\n",
      "12    ID  88.9  89.3  89.7  88.7  86.6\n",
      "13    IL  92.9  93.1  93.5  92.9  90.1\n",
      "14    IN  91.5  91.6  91.9  90.1  88.0\n",
      "15    IA  95.1  95.6  96.0  95.1  94.3\n",
      "16    KS  91.3  91.5  91.6  90.7  89.4\n",
      "17    KY  94.4  94.5  94.8  93.9  91.2\n",
      "18    LA  92.1  91.7  89.8  87.9  85.5\n",
      "19    ME  92.2  92.2  92.1  91.4  90.2\n",
      "20    MD  94.0  93.9  93.9  93.3  92.1\n",
      "21    MA  97.3  97.2  97.5  97.2  96.6\n",
      "22    MI  94.6  94.9  94.7  94.0  91.6\n",
      "23    MN  95.7  95.5  95.8  95.5  94.0\n",
      "24    MS  87.7  87.9  88.2  87.5  85.5\n",
      "25    MO  90.6  90.9  91.0  90.2  88.4\n",
      "26    MT  91.9  90.9  91.6  88.4  86.3\n",
      "27    NE  91.5  91.4  91.1  92.2  90.7\n",
      "28    NV  88.6  88.9  88.9  87.7  84.7\n",
      "29    NH  94.8  94.3  93.6  93.1  90.6\n",
      "30    NJ  92.6  92.4  92.3  91.2  89.0\n",
      "31    NM  90.7  90.9  91.0  89.1  85.2\n",
      "32    NY  94.7  94.3  93.9  92.9  91.4\n",
      "33    NC  89.1  89.3  89.5  88.7  86.8\n",
      "34    ND  92.3  92.5  92.2  91.7  91.9\n",
      "35    OH  93.5  94.2  94.4  93.5  91.6\n",
      "36    OK  86.3  86.0  86.2  85.8  84.8\n",
      "37    OR  92.8  93.2  93.8  93.0  90.2\n",
      "38    PA  94.4  94.5  94.2  93.7  91.4\n",
      "39    RI  96.0  95.5  95.8  94.8  92.9\n",
      "40    SC  89.5  88.9  90.1  89.2  86.4\n",
      "41    SD  90.6  90.8  91.7  88.8  90.0\n",
      "42    TN  89.8  90.6  90.9  89.7  88.1\n",
      "43    TX  82.3  82.6  83.4  83.0  80.9\n",
      "44    UT  91.0  91.0  91.5  89.3  87.6\n",
      "45    VT  95.9  95.8  96.4  96.1  95.3\n",
      "46    VA  91.3  91.2  91.2  90.7  89.1\n",
      "47    WA  93.5  93.9  94.1  93.5  90.8\n",
      "48    WV  93.8  94.2  95.1  94.5  91.1\n",
      "49    WI  94.5  94.9  94.8  94.2  92.6\n",
      "50    WY  89.4  87.7  89.0  89.6  87.6\n"
     ]
    }
   ],
   "source": [
    "health=health.drop(['dropit'], axis=1)\n",
    "health.head()\n",
    "print(health)"
   ],
   "metadata": {
    "collapsed": false,
    "pycharm": {
     "name": "#%%\n"
    }
   }
  },
  {
   "cell_type": "code",
   "execution_count": 125,
   "outputs": [
    {
     "name": "stdout",
     "output_type": "stream",
     "text": [
      "<class 'pandas.core.frame.DataFrame'>\n",
      "RangeIndex: 51 entries, 0 to 50\n",
      "Data columns (total 6 columns):\n",
      " #   Column  Non-Null Count  Dtype  \n",
      "---  ------  --------------  -----  \n",
      " 0   State   51 non-null     object \n",
      " 1   2018    51 non-null     float64\n",
      " 2   2017    51 non-null     float64\n",
      " 3   2016    51 non-null     float64\n",
      " 4   2015    51 non-null     float64\n",
      " 5   2014    51 non-null     float64\n",
      "dtypes: float64(5), object(1)\n",
      "memory usage: 2.5+ KB\n"
     ]
    }
   ],
   "source": [
    "health.info()"
   ],
   "metadata": {
    "collapsed": false,
    "pycharm": {
     "name": "#%%\n"
    }
   }
  },
  {
   "cell_type": "markdown",
   "source": [
    "### Education"
   ],
   "metadata": {
    "collapsed": false,
    "pycharm": {
     "name": "#%% md\n"
    }
   }
  },
  {
   "cell_type": "code",
   "execution_count": 126,
   "outputs": [
    {
     "data": {
      "text/plain": "  State  2018  2017  2016  2015  2014\n0    AL  30.2  28.8  29.6  29.7  28.0\n1    AK  29.7  29.4  28.9  27.7  27.6\n2    AZ  23.3  23.4  22.4  21.8  21.4\n3    AR  34.2  33.6  32.9  32.3  31.7\n4    CA  41.7  41.2  39.9  39.2  38.3",
      "text/html": "<div>\n<style scoped>\n    .dataframe tbody tr th:only-of-type {\n        vertical-align: middle;\n    }\n\n    .dataframe tbody tr th {\n        vertical-align: top;\n    }\n\n    .dataframe thead th {\n        text-align: right;\n    }\n</style>\n<table border=\"1\" class=\"dataframe\">\n  <thead>\n    <tr style=\"text-align: right;\">\n      <th></th>\n      <th>State</th>\n      <th>2018</th>\n      <th>2017</th>\n      <th>2016</th>\n      <th>2015</th>\n      <th>2014</th>\n    </tr>\n  </thead>\n  <tbody>\n    <tr>\n      <th>0</th>\n      <td>AL</td>\n      <td>30.2</td>\n      <td>28.8</td>\n      <td>29.6</td>\n      <td>29.7</td>\n      <td>28.0</td>\n    </tr>\n    <tr>\n      <th>1</th>\n      <td>AK</td>\n      <td>29.7</td>\n      <td>29.4</td>\n      <td>28.9</td>\n      <td>27.7</td>\n      <td>27.6</td>\n    </tr>\n    <tr>\n      <th>2</th>\n      <td>AZ</td>\n      <td>23.3</td>\n      <td>23.4</td>\n      <td>22.4</td>\n      <td>21.8</td>\n      <td>21.4</td>\n    </tr>\n    <tr>\n      <th>3</th>\n      <td>AR</td>\n      <td>34.2</td>\n      <td>33.6</td>\n      <td>32.9</td>\n      <td>32.3</td>\n      <td>31.7</td>\n    </tr>\n    <tr>\n      <th>4</th>\n      <td>CA</td>\n      <td>41.7</td>\n      <td>41.2</td>\n      <td>39.9</td>\n      <td>39.2</td>\n      <td>38.3</td>\n    </tr>\n  </tbody>\n</table>\n</div>"
     },
     "execution_count": 126,
     "metadata": {},
     "output_type": "execute_result"
    }
   ],
   "source": [
    "edu.head()"
   ],
   "metadata": {
    "collapsed": false,
    "pycharm": {
     "name": "#%%\n"
    }
   }
  },
  {
   "cell_type": "code",
   "execution_count": 127,
   "outputs": [
    {
     "name": "stdout",
     "output_type": "stream",
     "text": [
      "<class 'pandas.core.frame.DataFrame'>\n",
      "RangeIndex: 51 entries, 0 to 50\n",
      "Data columns (total 6 columns):\n",
      " #   Column  Non-Null Count  Dtype  \n",
      "---  ------  --------------  -----  \n",
      " 0   State   51 non-null     object \n",
      " 1   2018    51 non-null     float64\n",
      " 2   2017    51 non-null     float64\n",
      " 3   2016    51 non-null     float64\n",
      " 4   2015    51 non-null     float64\n",
      " 5   2014    51 non-null     float64\n",
      "dtypes: float64(5), object(1)\n",
      "memory usage: 2.5+ KB\n"
     ]
    }
   ],
   "source": [
    "edu.info()"
   ],
   "metadata": {
    "collapsed": false,
    "pycharm": {
     "name": "#%%\n"
    }
   }
  },
  {
   "cell_type": "markdown",
   "source": [
    "### Crime"
   ],
   "metadata": {
    "collapsed": false,
    "pycharm": {
     "name": "#%% md\n"
    }
   }
  },
  {
   "cell_type": "code",
   "execution_count": 128,
   "outputs": [
    {
     "data": {
      "text/plain": "  State   2018   2017   2016   2015   2014\n0    AL  523.1  522.4  532.4  472.4  427.7\n1    AK  891.7  856.7  804.6  730.2  635.5\n2    AZ  475.7  505.7  471.0  410.2  392.7\n3    AR  561.6  566.0  554.3  521.3  480.2\n4    CA  447.5  453.3  444.8  426.3  396.4",
      "text/html": "<div>\n<style scoped>\n    .dataframe tbody tr th:only-of-type {\n        vertical-align: middle;\n    }\n\n    .dataframe tbody tr th {\n        vertical-align: top;\n    }\n\n    .dataframe thead th {\n        text-align: right;\n    }\n</style>\n<table border=\"1\" class=\"dataframe\">\n  <thead>\n    <tr style=\"text-align: right;\">\n      <th></th>\n      <th>State</th>\n      <th>2018</th>\n      <th>2017</th>\n      <th>2016</th>\n      <th>2015</th>\n      <th>2014</th>\n    </tr>\n  </thead>\n  <tbody>\n    <tr>\n      <th>0</th>\n      <td>AL</td>\n      <td>523.1</td>\n      <td>522.4</td>\n      <td>532.4</td>\n      <td>472.4</td>\n      <td>427.7</td>\n    </tr>\n    <tr>\n      <th>1</th>\n      <td>AK</td>\n      <td>891.7</td>\n      <td>856.7</td>\n      <td>804.6</td>\n      <td>730.2</td>\n      <td>635.5</td>\n    </tr>\n    <tr>\n      <th>2</th>\n      <td>AZ</td>\n      <td>475.7</td>\n      <td>505.7</td>\n      <td>471.0</td>\n      <td>410.2</td>\n      <td>392.7</td>\n    </tr>\n    <tr>\n      <th>3</th>\n      <td>AR</td>\n      <td>561.6</td>\n      <td>566.0</td>\n      <td>554.3</td>\n      <td>521.3</td>\n      <td>480.2</td>\n    </tr>\n    <tr>\n      <th>4</th>\n      <td>CA</td>\n      <td>447.5</td>\n      <td>453.3</td>\n      <td>444.8</td>\n      <td>426.3</td>\n      <td>396.4</td>\n    </tr>\n  </tbody>\n</table>\n</div>"
     },
     "execution_count": 128,
     "metadata": {},
     "output_type": "execute_result"
    }
   ],
   "source": [
    "crime.head()"
   ],
   "metadata": {
    "collapsed": false,
    "pycharm": {
     "name": "#%%\n"
    }
   }
  },
  {
   "cell_type": "code",
   "execution_count": 129,
   "outputs": [
    {
     "name": "stdout",
     "output_type": "stream",
     "text": [
      "<class 'pandas.core.frame.DataFrame'>\n",
      "RangeIndex: 51 entries, 0 to 50\n",
      "Data columns (total 6 columns):\n",
      " #   Column  Non-Null Count  Dtype  \n",
      "---  ------  --------------  -----  \n",
      " 0   State   51 non-null     object \n",
      " 1   2018    51 non-null     float64\n",
      " 2   2017    51 non-null     float64\n",
      " 3   2016    51 non-null     float64\n",
      " 4   2015    51 non-null     float64\n",
      " 5   2014    51 non-null     float64\n",
      "dtypes: float64(5), object(1)\n",
      "memory usage: 2.5+ KB\n"
     ]
    }
   ],
   "source": [
    "crime.info()"
   ],
   "metadata": {
    "collapsed": false,
    "pycharm": {
     "name": "#%%\n"
    }
   }
  },
  {
   "cell_type": "markdown",
   "source": [
    "## Merging the datasets"
   ],
   "metadata": {
    "collapsed": false,
    "pycharm": {
     "name": "#%% md\n"
    }
   }
  },
  {
   "cell_type": "code",
   "execution_count": 130,
   "outputs": [],
   "source": [
    "# Merging the datasets\n",
    "gdp_unemp=pd.merge(gdp, unemp, on='State', suffixes=('_gdp','_unemp'))\n",
    "gdp_unemp_health=pd.merge(gdp_unemp, health, on='State', suffixes=('','_health'))\n",
    "gdp_unemp_health_edu=pd.merge(gdp_unemp_health, edu, on='State', suffixes=('_health',''))\n",
    "gdp_unemp_health_edu_crime=pd.merge(gdp_unemp_health_edu, crime, on='State', suffixes=('_edu', '_crime'))"
   ],
   "metadata": {
    "collapsed": false,
    "pycharm": {
     "name": "#%%\n"
    }
   }
  },
  {
   "cell_type": "code",
   "execution_count": 131,
   "outputs": [
    {
     "data": {
      "text/plain": "  State   2014_gdp   2015_gdp   2016_gdp    2017_gdp    2018_gdp  2014_unemp  \\\n0    AL   759545.3   765340.9   777135.2    790266.5    803203.6         6.8   \n1    AK   216752.9   218963.4   216986.5    216518.1    212998.4         6.9   \n2    AZ  1107795.8  1130307.9  1165100.9   1209821.5   1254474.9         6.8   \n3    AR   446938.0   449403.9   451192.5    455540.6    463750.4         6.0   \n4    CA  9024218.9  9429811.7  9711578.3  10167077.1  10574305.0         7.5   \n\n   2015_unemp  2016_unemp  2017_unemp  ...  2018_edu  2017_edu  2016_edu  \\\n0         6.1         5.8         4.4  ...      30.2      28.8      29.6   \n1         6.5         6.9         7.0  ...      29.7      29.4      28.9   \n2         6.1         5.4         4.9  ...      23.3      23.4      22.4   \n3         5.0         4.0         3.7  ...      34.2      33.6      32.9   \n4         6.2         5.5         4.8  ...      41.7      41.2      39.9   \n\n   2015_edu  2014_edu  2018_crime  2017_crime  2016_crime  2015_crime  \\\n0      29.7      28.0       523.1       522.4       532.4       472.4   \n1      27.7      27.6       891.7       856.7       804.6       730.2   \n2      21.8      21.4       475.7       505.7       471.0       410.2   \n3      32.3      31.7       561.6       566.0       554.3       521.3   \n4      39.2      38.3       447.5       453.3       444.8       426.3   \n\n   2014_crime  \n0       427.7  \n1       635.5  \n2       392.7  \n3       480.2  \n4       396.4  \n\n[5 rows x 26 columns]",
      "text/html": "<div>\n<style scoped>\n    .dataframe tbody tr th:only-of-type {\n        vertical-align: middle;\n    }\n\n    .dataframe tbody tr th {\n        vertical-align: top;\n    }\n\n    .dataframe thead th {\n        text-align: right;\n    }\n</style>\n<table border=\"1\" class=\"dataframe\">\n  <thead>\n    <tr style=\"text-align: right;\">\n      <th></th>\n      <th>State</th>\n      <th>2014_gdp</th>\n      <th>2015_gdp</th>\n      <th>2016_gdp</th>\n      <th>2017_gdp</th>\n      <th>2018_gdp</th>\n      <th>2014_unemp</th>\n      <th>2015_unemp</th>\n      <th>2016_unemp</th>\n      <th>2017_unemp</th>\n      <th>...</th>\n      <th>2018_edu</th>\n      <th>2017_edu</th>\n      <th>2016_edu</th>\n      <th>2015_edu</th>\n      <th>2014_edu</th>\n      <th>2018_crime</th>\n      <th>2017_crime</th>\n      <th>2016_crime</th>\n      <th>2015_crime</th>\n      <th>2014_crime</th>\n    </tr>\n  </thead>\n  <tbody>\n    <tr>\n      <th>0</th>\n      <td>AL</td>\n      <td>759545.3</td>\n      <td>765340.9</td>\n      <td>777135.2</td>\n      <td>790266.5</td>\n      <td>803203.6</td>\n      <td>6.8</td>\n      <td>6.1</td>\n      <td>5.8</td>\n      <td>4.4</td>\n      <td>...</td>\n      <td>30.2</td>\n      <td>28.8</td>\n      <td>29.6</td>\n      <td>29.7</td>\n      <td>28.0</td>\n      <td>523.1</td>\n      <td>522.4</td>\n      <td>532.4</td>\n      <td>472.4</td>\n      <td>427.7</td>\n    </tr>\n    <tr>\n      <th>1</th>\n      <td>AK</td>\n      <td>216752.9</td>\n      <td>218963.4</td>\n      <td>216986.5</td>\n      <td>216518.1</td>\n      <td>212998.4</td>\n      <td>6.9</td>\n      <td>6.5</td>\n      <td>6.9</td>\n      <td>7.0</td>\n      <td>...</td>\n      <td>29.7</td>\n      <td>29.4</td>\n      <td>28.9</td>\n      <td>27.7</td>\n      <td>27.6</td>\n      <td>891.7</td>\n      <td>856.7</td>\n      <td>804.6</td>\n      <td>730.2</td>\n      <td>635.5</td>\n    </tr>\n    <tr>\n      <th>2</th>\n      <td>AZ</td>\n      <td>1107795.8</td>\n      <td>1130307.9</td>\n      <td>1165100.9</td>\n      <td>1209821.5</td>\n      <td>1254474.9</td>\n      <td>6.8</td>\n      <td>6.1</td>\n      <td>5.4</td>\n      <td>4.9</td>\n      <td>...</td>\n      <td>23.3</td>\n      <td>23.4</td>\n      <td>22.4</td>\n      <td>21.8</td>\n      <td>21.4</td>\n      <td>475.7</td>\n      <td>505.7</td>\n      <td>471.0</td>\n      <td>410.2</td>\n      <td>392.7</td>\n    </tr>\n    <tr>\n      <th>3</th>\n      <td>AR</td>\n      <td>446938.0</td>\n      <td>449403.9</td>\n      <td>451192.5</td>\n      <td>455540.6</td>\n      <td>463750.4</td>\n      <td>6.0</td>\n      <td>5.0</td>\n      <td>4.0</td>\n      <td>3.7</td>\n      <td>...</td>\n      <td>34.2</td>\n      <td>33.6</td>\n      <td>32.9</td>\n      <td>32.3</td>\n      <td>31.7</td>\n      <td>561.6</td>\n      <td>566.0</td>\n      <td>554.3</td>\n      <td>521.3</td>\n      <td>480.2</td>\n    </tr>\n    <tr>\n      <th>4</th>\n      <td>CA</td>\n      <td>9024218.9</td>\n      <td>9429811.7</td>\n      <td>9711578.3</td>\n      <td>10167077.1</td>\n      <td>10574305.0</td>\n      <td>7.5</td>\n      <td>6.2</td>\n      <td>5.5</td>\n      <td>4.8</td>\n      <td>...</td>\n      <td>41.7</td>\n      <td>41.2</td>\n      <td>39.9</td>\n      <td>39.2</td>\n      <td>38.3</td>\n      <td>447.5</td>\n      <td>453.3</td>\n      <td>444.8</td>\n      <td>426.3</td>\n      <td>396.4</td>\n    </tr>\n  </tbody>\n</table>\n<p>5 rows × 26 columns</p>\n</div>"
     },
     "execution_count": 131,
     "metadata": {},
     "output_type": "execute_result"
    }
   ],
   "source": [
    "gdp_unemp_health_edu_crime.head()"
   ],
   "metadata": {
    "collapsed": false,
    "pycharm": {
     "name": "#%%\n"
    }
   }
  },
  {
   "cell_type": "code",
   "execution_count": 132,
   "outputs": [],
   "source": [
    "devscaled=gdp_unemp_health_edu_crime.copy()"
   ],
   "metadata": {
    "collapsed": false,
    "pycharm": {
     "name": "#%%\n"
    }
   }
  },
  {
   "cell_type": "code",
   "execution_count": 133,
   "outputs": [
    {
     "data": {
      "text/plain": "  State   2014_gdp   2015_gdp   2016_gdp    2017_gdp    2018_gdp  2014_unemp  \\\n0    AL   759545.3   765340.9   777135.2    790266.5    803203.6         6.8   \n1    AK   216752.9   218963.4   216986.5    216518.1    212998.4         6.9   \n2    AZ  1107795.8  1130307.9  1165100.9   1209821.5   1254474.9         6.8   \n3    AR   446938.0   449403.9   451192.5    455540.6    463750.4         6.0   \n4    CA  9024218.9  9429811.7  9711578.3  10167077.1  10574305.0         7.5   \n\n   2015_unemp  2016_unemp  2017_unemp  ...  2018_edu  2017_edu  2016_edu  \\\n0         6.1         5.8         4.4  ...      30.2      28.8      29.6   \n1         6.5         6.9         7.0  ...      29.7      29.4      28.9   \n2         6.1         5.4         4.9  ...      23.3      23.4      22.4   \n3         5.0         4.0         3.7  ...      34.2      33.6      32.9   \n4         6.2         5.5         4.8  ...      41.7      41.2      39.9   \n\n   2015_edu  2014_edu  2018_crime  2017_crime  2016_crime  2015_crime  \\\n0      29.7      28.0       523.1       522.4       532.4       472.4   \n1      27.7      27.6       891.7       856.7       804.6       730.2   \n2      21.8      21.4       475.7       505.7       471.0       410.2   \n3      32.3      31.7       561.6       566.0       554.3       521.3   \n4      39.2      38.3       447.5       453.3       444.8       426.3   \n\n   2014_crime  \n0       427.7  \n1       635.5  \n2       392.7  \n3       480.2  \n4       396.4  \n\n[5 rows x 26 columns]",
      "text/html": "<div>\n<style scoped>\n    .dataframe tbody tr th:only-of-type {\n        vertical-align: middle;\n    }\n\n    .dataframe tbody tr th {\n        vertical-align: top;\n    }\n\n    .dataframe thead th {\n        text-align: right;\n    }\n</style>\n<table border=\"1\" class=\"dataframe\">\n  <thead>\n    <tr style=\"text-align: right;\">\n      <th></th>\n      <th>State</th>\n      <th>2014_gdp</th>\n      <th>2015_gdp</th>\n      <th>2016_gdp</th>\n      <th>2017_gdp</th>\n      <th>2018_gdp</th>\n      <th>2014_unemp</th>\n      <th>2015_unemp</th>\n      <th>2016_unemp</th>\n      <th>2017_unemp</th>\n      <th>...</th>\n      <th>2018_edu</th>\n      <th>2017_edu</th>\n      <th>2016_edu</th>\n      <th>2015_edu</th>\n      <th>2014_edu</th>\n      <th>2018_crime</th>\n      <th>2017_crime</th>\n      <th>2016_crime</th>\n      <th>2015_crime</th>\n      <th>2014_crime</th>\n    </tr>\n  </thead>\n  <tbody>\n    <tr>\n      <th>0</th>\n      <td>AL</td>\n      <td>759545.3</td>\n      <td>765340.9</td>\n      <td>777135.2</td>\n      <td>790266.5</td>\n      <td>803203.6</td>\n      <td>6.8</td>\n      <td>6.1</td>\n      <td>5.8</td>\n      <td>4.4</td>\n      <td>...</td>\n      <td>30.2</td>\n      <td>28.8</td>\n      <td>29.6</td>\n      <td>29.7</td>\n      <td>28.0</td>\n      <td>523.1</td>\n      <td>522.4</td>\n      <td>532.4</td>\n      <td>472.4</td>\n      <td>427.7</td>\n    </tr>\n    <tr>\n      <th>1</th>\n      <td>AK</td>\n      <td>216752.9</td>\n      <td>218963.4</td>\n      <td>216986.5</td>\n      <td>216518.1</td>\n      <td>212998.4</td>\n      <td>6.9</td>\n      <td>6.5</td>\n      <td>6.9</td>\n      <td>7.0</td>\n      <td>...</td>\n      <td>29.7</td>\n      <td>29.4</td>\n      <td>28.9</td>\n      <td>27.7</td>\n      <td>27.6</td>\n      <td>891.7</td>\n      <td>856.7</td>\n      <td>804.6</td>\n      <td>730.2</td>\n      <td>635.5</td>\n    </tr>\n    <tr>\n      <th>2</th>\n      <td>AZ</td>\n      <td>1107795.8</td>\n      <td>1130307.9</td>\n      <td>1165100.9</td>\n      <td>1209821.5</td>\n      <td>1254474.9</td>\n      <td>6.8</td>\n      <td>6.1</td>\n      <td>5.4</td>\n      <td>4.9</td>\n      <td>...</td>\n      <td>23.3</td>\n      <td>23.4</td>\n      <td>22.4</td>\n      <td>21.8</td>\n      <td>21.4</td>\n      <td>475.7</td>\n      <td>505.7</td>\n      <td>471.0</td>\n      <td>410.2</td>\n      <td>392.7</td>\n    </tr>\n    <tr>\n      <th>3</th>\n      <td>AR</td>\n      <td>446938.0</td>\n      <td>449403.9</td>\n      <td>451192.5</td>\n      <td>455540.6</td>\n      <td>463750.4</td>\n      <td>6.0</td>\n      <td>5.0</td>\n      <td>4.0</td>\n      <td>3.7</td>\n      <td>...</td>\n      <td>34.2</td>\n      <td>33.6</td>\n      <td>32.9</td>\n      <td>32.3</td>\n      <td>31.7</td>\n      <td>561.6</td>\n      <td>566.0</td>\n      <td>554.3</td>\n      <td>521.3</td>\n      <td>480.2</td>\n    </tr>\n    <tr>\n      <th>4</th>\n      <td>CA</td>\n      <td>9024218.9</td>\n      <td>9429811.7</td>\n      <td>9711578.3</td>\n      <td>10167077.1</td>\n      <td>10574305.0</td>\n      <td>7.5</td>\n      <td>6.2</td>\n      <td>5.5</td>\n      <td>4.8</td>\n      <td>...</td>\n      <td>41.7</td>\n      <td>41.2</td>\n      <td>39.9</td>\n      <td>39.2</td>\n      <td>38.3</td>\n      <td>447.5</td>\n      <td>453.3</td>\n      <td>444.8</td>\n      <td>426.3</td>\n      <td>396.4</td>\n    </tr>\n  </tbody>\n</table>\n<p>5 rows × 26 columns</p>\n</div>"
     },
     "execution_count": 133,
     "metadata": {},
     "output_type": "execute_result"
    }
   ],
   "source": [
    "devscaled.head()"
   ],
   "metadata": {
    "collapsed": false,
    "pycharm": {
     "name": "#%%\n"
    }
   }
  },
  {
   "cell_type": "code",
   "execution_count": 134,
   "outputs": [],
   "source": [
    "#scale the data to be between 0 and 1 using min-max scaling\n",
    "for col in devscaled.columns:\n",
    "    if col!='State':\n",
    "        devscaled[col]=(devscaled[col]-devscaled[col].min())/(devscaled[col].max()-devscaled[col].min())\n"
   ],
   "metadata": {
    "collapsed": false,
    "pycharm": {
     "name": "#%%\n"
    }
   }
  },
  {
   "cell_type": "code",
   "execution_count": 135,
   "outputs": [
    {
     "data": {
      "text/plain": "  State  2014_gdp  2015_gdp  2016_gdp  2017_gdp  2018_gdp  2014_unemp  \\\n0    AL  0.072278  0.069670  0.068742  0.066898  0.065489    0.788462   \n1    AK  0.011349  0.011004  0.010356  0.009803  0.009041    0.807692   \n2    AZ  0.111370  0.108858  0.109180  0.108649  0.108648    0.788462   \n3    AR  0.037188  0.035747  0.034768  0.033589  0.033023    0.634615   \n4    CA  1.000000  1.000000  1.000000  1.000000  1.000000    0.923077   \n\n   2015_unemp  2016_unemp  2017_unemp  ...  2018_edu  2017_edu  2016_edu  \\\n0    0.804878       0.725    0.434783  ...  0.227621  0.231806  0.244444   \n1    0.902439       1.000    1.000000  ...  0.214834  0.247978  0.225000   \n2    0.804878       0.625    0.543478  ...  0.051151  0.086253  0.044444   \n3    0.536585       0.275    0.282609  ...  0.329923  0.361186  0.336111   \n4    0.829268       0.650    0.521739  ...  0.521739  0.566038  0.530556   \n\n   2015_edu  2014_edu  2018_crime  2017_crime  2016_crime  2015_crime  \\\n0  0.272237  0.245810    0.464467    0.455504    0.378323    0.307879   \n1  0.218329  0.234637    0.880917    0.834486    0.630477    0.531839   \n2  0.059299  0.061453    0.410914    0.436572    0.321445    0.253844   \n3  0.342318  0.349162    0.507965    0.504931    0.398610    0.350361   \n4  0.528302  0.533520    0.379053    0.377168    0.297175    0.267831   \n\n   2014_crime  \n0    0.285175  \n1    0.467456  \n2    0.254474  \n3    0.331228  \n4    0.257719  \n\n[5 rows x 26 columns]",
      "text/html": "<div>\n<style scoped>\n    .dataframe tbody tr th:only-of-type {\n        vertical-align: middle;\n    }\n\n    .dataframe tbody tr th {\n        vertical-align: top;\n    }\n\n    .dataframe thead th {\n        text-align: right;\n    }\n</style>\n<table border=\"1\" class=\"dataframe\">\n  <thead>\n    <tr style=\"text-align: right;\">\n      <th></th>\n      <th>State</th>\n      <th>2014_gdp</th>\n      <th>2015_gdp</th>\n      <th>2016_gdp</th>\n      <th>2017_gdp</th>\n      <th>2018_gdp</th>\n      <th>2014_unemp</th>\n      <th>2015_unemp</th>\n      <th>2016_unemp</th>\n      <th>2017_unemp</th>\n      <th>...</th>\n      <th>2018_edu</th>\n      <th>2017_edu</th>\n      <th>2016_edu</th>\n      <th>2015_edu</th>\n      <th>2014_edu</th>\n      <th>2018_crime</th>\n      <th>2017_crime</th>\n      <th>2016_crime</th>\n      <th>2015_crime</th>\n      <th>2014_crime</th>\n    </tr>\n  </thead>\n  <tbody>\n    <tr>\n      <th>0</th>\n      <td>AL</td>\n      <td>0.072278</td>\n      <td>0.069670</td>\n      <td>0.068742</td>\n      <td>0.066898</td>\n      <td>0.065489</td>\n      <td>0.788462</td>\n      <td>0.804878</td>\n      <td>0.725</td>\n      <td>0.434783</td>\n      <td>...</td>\n      <td>0.227621</td>\n      <td>0.231806</td>\n      <td>0.244444</td>\n      <td>0.272237</td>\n      <td>0.245810</td>\n      <td>0.464467</td>\n      <td>0.455504</td>\n      <td>0.378323</td>\n      <td>0.307879</td>\n      <td>0.285175</td>\n    </tr>\n    <tr>\n      <th>1</th>\n      <td>AK</td>\n      <td>0.011349</td>\n      <td>0.011004</td>\n      <td>0.010356</td>\n      <td>0.009803</td>\n      <td>0.009041</td>\n      <td>0.807692</td>\n      <td>0.902439</td>\n      <td>1.000</td>\n      <td>1.000000</td>\n      <td>...</td>\n      <td>0.214834</td>\n      <td>0.247978</td>\n      <td>0.225000</td>\n      <td>0.218329</td>\n      <td>0.234637</td>\n      <td>0.880917</td>\n      <td>0.834486</td>\n      <td>0.630477</td>\n      <td>0.531839</td>\n      <td>0.467456</td>\n    </tr>\n    <tr>\n      <th>2</th>\n      <td>AZ</td>\n      <td>0.111370</td>\n      <td>0.108858</td>\n      <td>0.109180</td>\n      <td>0.108649</td>\n      <td>0.108648</td>\n      <td>0.788462</td>\n      <td>0.804878</td>\n      <td>0.625</td>\n      <td>0.543478</td>\n      <td>...</td>\n      <td>0.051151</td>\n      <td>0.086253</td>\n      <td>0.044444</td>\n      <td>0.059299</td>\n      <td>0.061453</td>\n      <td>0.410914</td>\n      <td>0.436572</td>\n      <td>0.321445</td>\n      <td>0.253844</td>\n      <td>0.254474</td>\n    </tr>\n    <tr>\n      <th>3</th>\n      <td>AR</td>\n      <td>0.037188</td>\n      <td>0.035747</td>\n      <td>0.034768</td>\n      <td>0.033589</td>\n      <td>0.033023</td>\n      <td>0.634615</td>\n      <td>0.536585</td>\n      <td>0.275</td>\n      <td>0.282609</td>\n      <td>...</td>\n      <td>0.329923</td>\n      <td>0.361186</td>\n      <td>0.336111</td>\n      <td>0.342318</td>\n      <td>0.349162</td>\n      <td>0.507965</td>\n      <td>0.504931</td>\n      <td>0.398610</td>\n      <td>0.350361</td>\n      <td>0.331228</td>\n    </tr>\n    <tr>\n      <th>4</th>\n      <td>CA</td>\n      <td>1.000000</td>\n      <td>1.000000</td>\n      <td>1.000000</td>\n      <td>1.000000</td>\n      <td>1.000000</td>\n      <td>0.923077</td>\n      <td>0.829268</td>\n      <td>0.650</td>\n      <td>0.521739</td>\n      <td>...</td>\n      <td>0.521739</td>\n      <td>0.566038</td>\n      <td>0.530556</td>\n      <td>0.528302</td>\n      <td>0.533520</td>\n      <td>0.379053</td>\n      <td>0.377168</td>\n      <td>0.297175</td>\n      <td>0.267831</td>\n      <td>0.257719</td>\n    </tr>\n  </tbody>\n</table>\n<p>5 rows × 26 columns</p>\n</div>"
     },
     "execution_count": 135,
     "metadata": {},
     "output_type": "execute_result"
    }
   ],
   "source": [
    "devscaled.head()"
   ],
   "metadata": {
    "collapsed": false,
    "pycharm": {
     "name": "#%%\n"
    }
   }
  },
  {
   "cell_type": "code",
   "execution_count": 136,
   "outputs": [
    {
     "data": {
      "text/plain": "  State  2014_gdp  2015_gdp  2016_gdp  2017_gdp  2018_gdp  2014_unemp  \\\n0    AL  0.072278  0.069670  0.068742  0.066898  0.065489   -0.788462   \n1    AK  0.011349  0.011004  0.010356  0.009803  0.009041   -0.807692   \n2    AZ  0.111370  0.108858  0.109180  0.108649  0.108648   -0.788462   \n3    AR  0.037188  0.035747  0.034768  0.033589  0.033023   -0.634615   \n4    CA  1.000000  1.000000  1.000000  1.000000  1.000000   -0.923077   \n\n   2015_unemp  2016_unemp  2017_unemp  ...  2018_edu  2017_edu  2016_edu  \\\n0   -0.804878      -0.725   -0.434783  ...  0.227621  0.231806  0.244444   \n1   -0.902439      -1.000   -1.000000  ...  0.214834  0.247978  0.225000   \n2   -0.804878      -0.625   -0.543478  ...  0.051151  0.086253  0.044444   \n3   -0.536585      -0.275   -0.282609  ...  0.329923  0.361186  0.336111   \n4   -0.829268      -0.650   -0.521739  ...  0.521739  0.566038  0.530556   \n\n   2015_edu  2014_edu  2018_crime  2017_crime  2016_crime  2015_crime  \\\n0  0.272237  0.245810   -0.464467   -0.455504   -0.378323   -0.307879   \n1  0.218329  0.234637   -0.880917   -0.834486   -0.630477   -0.531839   \n2  0.059299  0.061453   -0.410914   -0.436572   -0.321445   -0.253844   \n3  0.342318  0.349162   -0.507965   -0.504931   -0.398610   -0.350361   \n4  0.528302  0.533520   -0.379053   -0.377168   -0.297175   -0.267831   \n\n   2014_crime  \n0   -0.285175  \n1   -0.467456  \n2   -0.254474  \n3   -0.331228  \n4   -0.257719  \n\n[5 rows x 26 columns]",
      "text/html": "<div>\n<style scoped>\n    .dataframe tbody tr th:only-of-type {\n        vertical-align: middle;\n    }\n\n    .dataframe tbody tr th {\n        vertical-align: top;\n    }\n\n    .dataframe thead th {\n        text-align: right;\n    }\n</style>\n<table border=\"1\" class=\"dataframe\">\n  <thead>\n    <tr style=\"text-align: right;\">\n      <th></th>\n      <th>State</th>\n      <th>2014_gdp</th>\n      <th>2015_gdp</th>\n      <th>2016_gdp</th>\n      <th>2017_gdp</th>\n      <th>2018_gdp</th>\n      <th>2014_unemp</th>\n      <th>2015_unemp</th>\n      <th>2016_unemp</th>\n      <th>2017_unemp</th>\n      <th>...</th>\n      <th>2018_edu</th>\n      <th>2017_edu</th>\n      <th>2016_edu</th>\n      <th>2015_edu</th>\n      <th>2014_edu</th>\n      <th>2018_crime</th>\n      <th>2017_crime</th>\n      <th>2016_crime</th>\n      <th>2015_crime</th>\n      <th>2014_crime</th>\n    </tr>\n  </thead>\n  <tbody>\n    <tr>\n      <th>0</th>\n      <td>AL</td>\n      <td>0.072278</td>\n      <td>0.069670</td>\n      <td>0.068742</td>\n      <td>0.066898</td>\n      <td>0.065489</td>\n      <td>-0.788462</td>\n      <td>-0.804878</td>\n      <td>-0.725</td>\n      <td>-0.434783</td>\n      <td>...</td>\n      <td>0.227621</td>\n      <td>0.231806</td>\n      <td>0.244444</td>\n      <td>0.272237</td>\n      <td>0.245810</td>\n      <td>-0.464467</td>\n      <td>-0.455504</td>\n      <td>-0.378323</td>\n      <td>-0.307879</td>\n      <td>-0.285175</td>\n    </tr>\n    <tr>\n      <th>1</th>\n      <td>AK</td>\n      <td>0.011349</td>\n      <td>0.011004</td>\n      <td>0.010356</td>\n      <td>0.009803</td>\n      <td>0.009041</td>\n      <td>-0.807692</td>\n      <td>-0.902439</td>\n      <td>-1.000</td>\n      <td>-1.000000</td>\n      <td>...</td>\n      <td>0.214834</td>\n      <td>0.247978</td>\n      <td>0.225000</td>\n      <td>0.218329</td>\n      <td>0.234637</td>\n      <td>-0.880917</td>\n      <td>-0.834486</td>\n      <td>-0.630477</td>\n      <td>-0.531839</td>\n      <td>-0.467456</td>\n    </tr>\n    <tr>\n      <th>2</th>\n      <td>AZ</td>\n      <td>0.111370</td>\n      <td>0.108858</td>\n      <td>0.109180</td>\n      <td>0.108649</td>\n      <td>0.108648</td>\n      <td>-0.788462</td>\n      <td>-0.804878</td>\n      <td>-0.625</td>\n      <td>-0.543478</td>\n      <td>...</td>\n      <td>0.051151</td>\n      <td>0.086253</td>\n      <td>0.044444</td>\n      <td>0.059299</td>\n      <td>0.061453</td>\n      <td>-0.410914</td>\n      <td>-0.436572</td>\n      <td>-0.321445</td>\n      <td>-0.253844</td>\n      <td>-0.254474</td>\n    </tr>\n    <tr>\n      <th>3</th>\n      <td>AR</td>\n      <td>0.037188</td>\n      <td>0.035747</td>\n      <td>0.034768</td>\n      <td>0.033589</td>\n      <td>0.033023</td>\n      <td>-0.634615</td>\n      <td>-0.536585</td>\n      <td>-0.275</td>\n      <td>-0.282609</td>\n      <td>...</td>\n      <td>0.329923</td>\n      <td>0.361186</td>\n      <td>0.336111</td>\n      <td>0.342318</td>\n      <td>0.349162</td>\n      <td>-0.507965</td>\n      <td>-0.504931</td>\n      <td>-0.398610</td>\n      <td>-0.350361</td>\n      <td>-0.331228</td>\n    </tr>\n    <tr>\n      <th>4</th>\n      <td>CA</td>\n      <td>1.000000</td>\n      <td>1.000000</td>\n      <td>1.000000</td>\n      <td>1.000000</td>\n      <td>1.000000</td>\n      <td>-0.923077</td>\n      <td>-0.829268</td>\n      <td>-0.650</td>\n      <td>-0.521739</td>\n      <td>...</td>\n      <td>0.521739</td>\n      <td>0.566038</td>\n      <td>0.530556</td>\n      <td>0.528302</td>\n      <td>0.533520</td>\n      <td>-0.379053</td>\n      <td>-0.377168</td>\n      <td>-0.297175</td>\n      <td>-0.267831</td>\n      <td>-0.257719</td>\n    </tr>\n  </tbody>\n</table>\n<p>5 rows × 26 columns</p>\n</div>"
     },
     "execution_count": 136,
     "metadata": {},
     "output_type": "execute_result"
    }
   ],
   "source": [
    "#multiply crime and unemployment by -1 as they are negative factors\n",
    "devscaled.loc[:,devscaled.columns.str.contains('_crime')]=-1*devscaled.loc[:,devscaled.columns.str.contains('_crime')]\n",
    "devscaled.loc[:,devscaled.columns.str.contains('_unemp')]=-1*devscaled.loc[:,devscaled.columns.str.contains('_unemp')]\n",
    "devscaled.head()"
   ],
   "metadata": {
    "collapsed": false,
    "pycharm": {
     "name": "#%%\n"
    }
   }
  },
  {
   "cell_type": "code",
   "execution_count": 137,
   "outputs": [
    {
     "data": {
      "text/plain": "  State  2014_gdp  2015_gdp  2016_gdp  2017_gdp  2018_gdp  2014_unemp  \\\n0    AL  0.072278  0.069670  0.068742  0.066898  0.065489   -0.788462   \n1    AK  0.011349  0.011004  0.010356  0.009803  0.009041   -0.807692   \n2    AZ  0.111370  0.108858  0.109180  0.108649  0.108648   -0.788462   \n3    AR  0.037188  0.035747  0.034768  0.033589  0.033023   -0.634615   \n4    CA  1.000000  1.000000  1.000000  1.000000  1.000000   -0.923077   \n\n   2015_unemp  2016_unemp  2017_unemp  ...  2018_crime  2017_crime  \\\n0   -0.804878      -0.725   -0.434783  ...   -0.464467   -0.455504   \n1   -0.902439      -1.000   -1.000000  ...   -0.880917   -0.834486   \n2   -0.804878      -0.625   -0.543478  ...   -0.410914   -0.436572   \n3   -0.536585      -0.275   -0.282609  ...   -0.507965   -0.504931   \n4   -0.829268      -0.650   -0.521739  ...   -0.379053   -0.377168   \n\n   2016_crime  2015_crime  2014_crime  2014_total  2015_total  2016_total  \\\n0   -0.378323   -0.307879   -0.285175   -0.303319   -0.291977   -0.265315   \n1   -0.630477   -0.531839   -0.467456   -0.927252   -1.028889   -1.246185   \n2   -0.321445   -0.253844   -0.254474   -0.526164   -0.475072   -0.324735   \n3   -0.398610   -0.350361   -0.331228   -0.114526    0.026331    0.307197   \n4   -0.297175   -0.267831   -0.257719    0.773105    1.029794    1.235863   \n\n   2017_total  2018_total  \n0   -0.050487   -0.028500  \n1   -1.336978   -1.277042  \n2   -0.278299   -0.349210  \n3    0.251070    0.172124  \n4    1.365761    1.414114  \n\n[5 rows x 31 columns]",
      "text/html": "<div>\n<style scoped>\n    .dataframe tbody tr th:only-of-type {\n        vertical-align: middle;\n    }\n\n    .dataframe tbody tr th {\n        vertical-align: top;\n    }\n\n    .dataframe thead th {\n        text-align: right;\n    }\n</style>\n<table border=\"1\" class=\"dataframe\">\n  <thead>\n    <tr style=\"text-align: right;\">\n      <th></th>\n      <th>State</th>\n      <th>2014_gdp</th>\n      <th>2015_gdp</th>\n      <th>2016_gdp</th>\n      <th>2017_gdp</th>\n      <th>2018_gdp</th>\n      <th>2014_unemp</th>\n      <th>2015_unemp</th>\n      <th>2016_unemp</th>\n      <th>2017_unemp</th>\n      <th>...</th>\n      <th>2018_crime</th>\n      <th>2017_crime</th>\n      <th>2016_crime</th>\n      <th>2015_crime</th>\n      <th>2014_crime</th>\n      <th>2014_total</th>\n      <th>2015_total</th>\n      <th>2016_total</th>\n      <th>2017_total</th>\n      <th>2018_total</th>\n    </tr>\n  </thead>\n  <tbody>\n    <tr>\n      <th>0</th>\n      <td>AL</td>\n      <td>0.072278</td>\n      <td>0.069670</td>\n      <td>0.068742</td>\n      <td>0.066898</td>\n      <td>0.065489</td>\n      <td>-0.788462</td>\n      <td>-0.804878</td>\n      <td>-0.725</td>\n      <td>-0.434783</td>\n      <td>...</td>\n      <td>-0.464467</td>\n      <td>-0.455504</td>\n      <td>-0.378323</td>\n      <td>-0.307879</td>\n      <td>-0.285175</td>\n      <td>-0.303319</td>\n      <td>-0.291977</td>\n      <td>-0.265315</td>\n      <td>-0.050487</td>\n      <td>-0.028500</td>\n    </tr>\n    <tr>\n      <th>1</th>\n      <td>AK</td>\n      <td>0.011349</td>\n      <td>0.011004</td>\n      <td>0.010356</td>\n      <td>0.009803</td>\n      <td>0.009041</td>\n      <td>-0.807692</td>\n      <td>-0.902439</td>\n      <td>-1.000</td>\n      <td>-1.000000</td>\n      <td>...</td>\n      <td>-0.880917</td>\n      <td>-0.834486</td>\n      <td>-0.630477</td>\n      <td>-0.531839</td>\n      <td>-0.467456</td>\n      <td>-0.927252</td>\n      <td>-1.028889</td>\n      <td>-1.246185</td>\n      <td>-1.336978</td>\n      <td>-1.277042</td>\n    </tr>\n    <tr>\n      <th>2</th>\n      <td>AZ</td>\n      <td>0.111370</td>\n      <td>0.108858</td>\n      <td>0.109180</td>\n      <td>0.108649</td>\n      <td>0.108648</td>\n      <td>-0.788462</td>\n      <td>-0.804878</td>\n      <td>-0.625</td>\n      <td>-0.543478</td>\n      <td>...</td>\n      <td>-0.410914</td>\n      <td>-0.436572</td>\n      <td>-0.321445</td>\n      <td>-0.253844</td>\n      <td>-0.254474</td>\n      <td>-0.526164</td>\n      <td>-0.475072</td>\n      <td>-0.324735</td>\n      <td>-0.278299</td>\n      <td>-0.349210</td>\n    </tr>\n    <tr>\n      <th>3</th>\n      <td>AR</td>\n      <td>0.037188</td>\n      <td>0.035747</td>\n      <td>0.034768</td>\n      <td>0.033589</td>\n      <td>0.033023</td>\n      <td>-0.634615</td>\n      <td>-0.536585</td>\n      <td>-0.275</td>\n      <td>-0.282609</td>\n      <td>...</td>\n      <td>-0.507965</td>\n      <td>-0.504931</td>\n      <td>-0.398610</td>\n      <td>-0.350361</td>\n      <td>-0.331228</td>\n      <td>-0.114526</td>\n      <td>0.026331</td>\n      <td>0.307197</td>\n      <td>0.251070</td>\n      <td>0.172124</td>\n    </tr>\n    <tr>\n      <th>4</th>\n      <td>CA</td>\n      <td>1.000000</td>\n      <td>1.000000</td>\n      <td>1.000000</td>\n      <td>1.000000</td>\n      <td>1.000000</td>\n      <td>-0.923077</td>\n      <td>-0.829268</td>\n      <td>-0.650</td>\n      <td>-0.521739</td>\n      <td>...</td>\n      <td>-0.379053</td>\n      <td>-0.377168</td>\n      <td>-0.297175</td>\n      <td>-0.267831</td>\n      <td>-0.257719</td>\n      <td>0.773105</td>\n      <td>1.029794</td>\n      <td>1.235863</td>\n      <td>1.365761</td>\n      <td>1.414114</td>\n    </tr>\n  </tbody>\n</table>\n<p>5 rows × 31 columns</p>\n</div>"
     },
     "execution_count": 137,
     "metadata": {},
     "output_type": "execute_result"
    }
   ],
   "source": [
    "##Compute year totals for each state for each year\n",
    "years=['2014','2015','2016','2017','2018']\n",
    "for y in years:\n",
    "    devscaled[y+'_total']=devscaled.loc[:,devscaled.columns.str.contains(y)].sum(axis=1)\n",
    "devscaled.head()"
   ],
   "metadata": {
    "collapsed": false,
    "pycharm": {
     "name": "#%%\n"
    }
   }
  },
  {
   "cell_type": "code",
   "execution_count": 138,
   "outputs": [
    {
     "data": {
      "text/plain": "  State  2014_gdp  2015_gdp  2016_gdp  2017_gdp  2018_gdp  2014_unemp  \\\n0    AL  0.072278  0.069670  0.068742  0.066898  0.065489   -0.788462   \n1    AK  0.011349  0.011004  0.010356  0.009803  0.009041   -0.807692   \n2    AZ  0.111370  0.108858  0.109180  0.108649  0.108648   -0.788462   \n3    AR  0.037188  0.035747  0.034768  0.033589  0.033023   -0.634615   \n4    CA  1.000000  1.000000  1.000000  1.000000  1.000000   -0.923077   \n\n   2015_unemp  2016_unemp  2017_unemp  ...  2014_total  2015_total  \\\n0   -0.804878      -0.725   -0.434783  ...   -0.303319   -0.291977   \n1   -0.902439      -1.000   -1.000000  ...   -0.927252   -1.028889   \n2   -0.804878      -0.625   -0.543478  ...   -0.526164   -0.475072   \n3   -0.536585      -0.275   -0.282609  ...   -0.114526    0.026331   \n4   -0.829268      -0.650   -0.521739  ...    0.773105    1.029794   \n\n   2016_total  2017_total  2018_total  2014_rank  2015_rank  2016_rank  \\\n0   -0.265315   -0.050487   -0.028500       41.0       43.0       44.0   \n1   -1.246185   -1.336978   -1.277042       51.0       51.0       51.0   \n2   -0.324735   -0.278299   -0.349210       48.0       46.0       46.0   \n3    0.307197    0.251070    0.172124       39.0       36.0       28.0   \n4    1.235863    1.365761    1.414114        5.0        2.0        2.0   \n\n   2017_rank  2018_rank  \n0       42.0       44.0  \n1       51.0       51.0  \n2       48.0       48.0  \n3       31.0       36.0  \n4        1.0        1.0  \n\n[5 rows x 36 columns]",
      "text/html": "<div>\n<style scoped>\n    .dataframe tbody tr th:only-of-type {\n        vertical-align: middle;\n    }\n\n    .dataframe tbody tr th {\n        vertical-align: top;\n    }\n\n    .dataframe thead th {\n        text-align: right;\n    }\n</style>\n<table border=\"1\" class=\"dataframe\">\n  <thead>\n    <tr style=\"text-align: right;\">\n      <th></th>\n      <th>State</th>\n      <th>2014_gdp</th>\n      <th>2015_gdp</th>\n      <th>2016_gdp</th>\n      <th>2017_gdp</th>\n      <th>2018_gdp</th>\n      <th>2014_unemp</th>\n      <th>2015_unemp</th>\n      <th>2016_unemp</th>\n      <th>2017_unemp</th>\n      <th>...</th>\n      <th>2014_total</th>\n      <th>2015_total</th>\n      <th>2016_total</th>\n      <th>2017_total</th>\n      <th>2018_total</th>\n      <th>2014_rank</th>\n      <th>2015_rank</th>\n      <th>2016_rank</th>\n      <th>2017_rank</th>\n      <th>2018_rank</th>\n    </tr>\n  </thead>\n  <tbody>\n    <tr>\n      <th>0</th>\n      <td>AL</td>\n      <td>0.072278</td>\n      <td>0.069670</td>\n      <td>0.068742</td>\n      <td>0.066898</td>\n      <td>0.065489</td>\n      <td>-0.788462</td>\n      <td>-0.804878</td>\n      <td>-0.725</td>\n      <td>-0.434783</td>\n      <td>...</td>\n      <td>-0.303319</td>\n      <td>-0.291977</td>\n      <td>-0.265315</td>\n      <td>-0.050487</td>\n      <td>-0.028500</td>\n      <td>41.0</td>\n      <td>43.0</td>\n      <td>44.0</td>\n      <td>42.0</td>\n      <td>44.0</td>\n    </tr>\n    <tr>\n      <th>1</th>\n      <td>AK</td>\n      <td>0.011349</td>\n      <td>0.011004</td>\n      <td>0.010356</td>\n      <td>0.009803</td>\n      <td>0.009041</td>\n      <td>-0.807692</td>\n      <td>-0.902439</td>\n      <td>-1.000</td>\n      <td>-1.000000</td>\n      <td>...</td>\n      <td>-0.927252</td>\n      <td>-1.028889</td>\n      <td>-1.246185</td>\n      <td>-1.336978</td>\n      <td>-1.277042</td>\n      <td>51.0</td>\n      <td>51.0</td>\n      <td>51.0</td>\n      <td>51.0</td>\n      <td>51.0</td>\n    </tr>\n    <tr>\n      <th>2</th>\n      <td>AZ</td>\n      <td>0.111370</td>\n      <td>0.108858</td>\n      <td>0.109180</td>\n      <td>0.108649</td>\n      <td>0.108648</td>\n      <td>-0.788462</td>\n      <td>-0.804878</td>\n      <td>-0.625</td>\n      <td>-0.543478</td>\n      <td>...</td>\n      <td>-0.526164</td>\n      <td>-0.475072</td>\n      <td>-0.324735</td>\n      <td>-0.278299</td>\n      <td>-0.349210</td>\n      <td>48.0</td>\n      <td>46.0</td>\n      <td>46.0</td>\n      <td>48.0</td>\n      <td>48.0</td>\n    </tr>\n    <tr>\n      <th>3</th>\n      <td>AR</td>\n      <td>0.037188</td>\n      <td>0.035747</td>\n      <td>0.034768</td>\n      <td>0.033589</td>\n      <td>0.033023</td>\n      <td>-0.634615</td>\n      <td>-0.536585</td>\n      <td>-0.275</td>\n      <td>-0.282609</td>\n      <td>...</td>\n      <td>-0.114526</td>\n      <td>0.026331</td>\n      <td>0.307197</td>\n      <td>0.251070</td>\n      <td>0.172124</td>\n      <td>39.0</td>\n      <td>36.0</td>\n      <td>28.0</td>\n      <td>31.0</td>\n      <td>36.0</td>\n    </tr>\n    <tr>\n      <th>4</th>\n      <td>CA</td>\n      <td>1.000000</td>\n      <td>1.000000</td>\n      <td>1.000000</td>\n      <td>1.000000</td>\n      <td>1.000000</td>\n      <td>-0.923077</td>\n      <td>-0.829268</td>\n      <td>-0.650</td>\n      <td>-0.521739</td>\n      <td>...</td>\n      <td>0.773105</td>\n      <td>1.029794</td>\n      <td>1.235863</td>\n      <td>1.365761</td>\n      <td>1.414114</td>\n      <td>5.0</td>\n      <td>2.0</td>\n      <td>2.0</td>\n      <td>1.0</td>\n      <td>1.0</td>\n    </tr>\n  </tbody>\n</table>\n<p>5 rows × 36 columns</p>\n</div>"
     },
     "execution_count": 138,
     "metadata": {},
     "output_type": "execute_result"
    }
   ],
   "source": [
    "#rank states by total for each year\n",
    "devscaled['2014_rank']=devscaled['2014_total'].rank(ascending=False)\n",
    "devscaled['2015_rank']=devscaled['2015_total'].rank(ascending=False)\n",
    "devscaled['2016_rank']=devscaled['2016_total'].rank(ascending=False)\n",
    "devscaled['2017_rank']=devscaled['2017_total'].rank(ascending=False)\n",
    "devscaled['2018_rank']=devscaled['2018_total'].rank(ascending=False)\n",
    "devscaled.head()"
   ],
   "metadata": {
    "collapsed": false,
    "pycharm": {
     "name": "#%%\n"
    }
   }
  },
  {
   "cell_type": "code",
   "execution_count": 139,
   "outputs": [
    {
     "data": {
      "text/plain": "<Figure size 720x720 with 1 Axes>",
      "image/png": "[encoded data removed]"
     },
     "metadata": {
      "needs_background": "light"
     },
     "output_type": "display_data"
    }
   ],
   "source": [
    "#plot the rankings from all years\n",
    "plt.figure(figsize=(10,10))\n",
    "plt.plot(devscaled['2014_rank'], devscaled['State'], 'o', color='red', label='2014')\n",
    "plt.plot(devscaled['2015_rank'], devscaled['State'], 'o', color='blue', label='2015')\n",
    "plt.plot(devscaled['2016_rank'], devscaled['State'], 'o', color='green', label='2016')\n",
    "plt.plot(devscaled['2017_rank'], devscaled['State'], 'o', color='orange', label='2017')\n",
    "plt.plot(devscaled['2018_rank'], devscaled['State'], 'o', color='black', label='2018')\n",
    "plt.legend(loc='upper left')\n",
    "plt.xlabel('Rank')\n",
    "plt.ylabel('State')\n",
    "plt.title('Rankings by State for All Years')\n",
    "plt.show()"
   ],
   "metadata": {
    "collapsed": false,
    "pycharm": {
     "name": "#%%\n"
    }
   }
  },
  {
   "cell_type": "code",
   "execution_count": 140,
   "outputs": [
    {
     "data": {
      "text/plain": "  State  2014_gdp  2015_gdp  2016_gdp  2017_gdp  2018_gdp  2014_unemp  \\\n0    AL  0.072278  0.069670  0.068742  0.066898  0.065489   -0.788462   \n1    AK  0.011349  0.011004  0.010356  0.009803  0.009041   -0.807692   \n2    AZ  0.111370  0.108858  0.109180  0.108649  0.108648   -0.788462   \n3    AR  0.037188  0.035747  0.034768  0.033589  0.033023   -0.634615   \n4    CA  1.000000  1.000000  1.000000  1.000000  1.000000   -0.923077   \n\n   2015_unemp  2016_unemp  2017_unemp  ...  2014_rank  2015_rank  2016_rank  \\\n0   -0.804878      -0.725   -0.434783  ...       41.0       43.0       44.0   \n1   -0.902439      -1.000   -1.000000  ...       51.0       51.0       51.0   \n2   -0.804878      -0.625   -0.543478  ...       48.0       46.0       46.0   \n3   -0.536585      -0.275   -0.282609  ...       39.0       36.0       28.0   \n4   -0.829268      -0.650   -0.521739  ...        5.0        2.0        2.0   \n\n   2017_rank  2018_rank  2014  2015  2016  2017  2018  \n0       42.0       44.0     4     4     5     4     5  \n1       51.0       51.0     5     5     5     5     5  \n2       48.0       48.0     5     5     5     5     5  \n3       31.0       36.0     4     4     3     3     4  \n4        1.0        1.0     1     1     1     1     1  \n\n[5 rows x 41 columns]",
      "text/html": "<div>\n<style scoped>\n    .dataframe tbody tr th:only-of-type {\n        vertical-align: middle;\n    }\n\n    .dataframe tbody tr th {\n        vertical-align: top;\n    }\n\n    .dataframe thead th {\n        text-align: right;\n    }\n</style>\n<table border=\"1\" class=\"dataframe\">\n  <thead>\n    <tr style=\"text-align: right;\">\n      <th></th>\n      <th>State</th>\n      <th>2014_gdp</th>\n      <th>2015_gdp</th>\n      <th>2016_gdp</th>\n      <th>2017_gdp</th>\n      <th>2018_gdp</th>\n      <th>2014_unemp</th>\n      <th>2015_unemp</th>\n      <th>2016_unemp</th>\n      <th>2017_unemp</th>\n      <th>...</th>\n      <th>2014_rank</th>\n      <th>2015_rank</th>\n      <th>2016_rank</th>\n      <th>2017_rank</th>\n      <th>2018_rank</th>\n      <th>2014</th>\n      <th>2015</th>\n      <th>2016</th>\n      <th>2017</th>\n      <th>2018</th>\n    </tr>\n  </thead>\n  <tbody>\n    <tr>\n      <th>0</th>\n      <td>AL</td>\n      <td>0.072278</td>\n      <td>0.069670</td>\n      <td>0.068742</td>\n      <td>0.066898</td>\n      <td>0.065489</td>\n      <td>-0.788462</td>\n      <td>-0.804878</td>\n      <td>-0.725</td>\n      <td>-0.434783</td>\n      <td>...</td>\n      <td>41.0</td>\n      <td>43.0</td>\n      <td>44.0</td>\n      <td>42.0</td>\n      <td>44.0</td>\n      <td>4</td>\n      <td>4</td>\n      <td>5</td>\n      <td>4</td>\n      <td>5</td>\n    </tr>\n    <tr>\n      <th>1</th>\n      <td>AK</td>\n      <td>0.011349</td>\n      <td>0.011004</td>\n      <td>0.010356</td>\n      <td>0.009803</td>\n      <td>0.009041</td>\n      <td>-0.807692</td>\n      <td>-0.902439</td>\n      <td>-1.000</td>\n      <td>-1.000000</td>\n      <td>...</td>\n      <td>51.0</td>\n      <td>51.0</td>\n      <td>51.0</td>\n      <td>51.0</td>\n      <td>51.0</td>\n      <td>5</td>\n      <td>5</td>\n      <td>5</td>\n      <td>5</td>\n      <td>5</td>\n    </tr>\n    <tr>\n      <th>2</th>\n      <td>AZ</td>\n      <td>0.111370</td>\n      <td>0.108858</td>\n      <td>0.109180</td>\n      <td>0.108649</td>\n      <td>0.108648</td>\n      <td>-0.788462</td>\n      <td>-0.804878</td>\n      <td>-0.625</td>\n      <td>-0.543478</td>\n      <td>...</td>\n      <td>48.0</td>\n      <td>46.0</td>\n      <td>46.0</td>\n      <td>48.0</td>\n      <td>48.0</td>\n      <td>5</td>\n      <td>5</td>\n      <td>5</td>\n      <td>5</td>\n      <td>5</td>\n    </tr>\n    <tr>\n      <th>3</th>\n      <td>AR</td>\n      <td>0.037188</td>\n      <td>0.035747</td>\n      <td>0.034768</td>\n      <td>0.033589</td>\n      <td>0.033023</td>\n      <td>-0.634615</td>\n      <td>-0.536585</td>\n      <td>-0.275</td>\n      <td>-0.282609</td>\n      <td>...</td>\n      <td>39.0</td>\n      <td>36.0</td>\n      <td>28.0</td>\n      <td>31.0</td>\n      <td>36.0</td>\n      <td>4</td>\n      <td>4</td>\n      <td>3</td>\n      <td>3</td>\n      <td>4</td>\n    </tr>\n    <tr>\n      <th>4</th>\n      <td>CA</td>\n      <td>1.000000</td>\n      <td>1.000000</td>\n      <td>1.000000</td>\n      <td>1.000000</td>\n      <td>1.000000</td>\n      <td>-0.923077</td>\n      <td>-0.829268</td>\n      <td>-0.650</td>\n      <td>-0.521739</td>\n      <td>...</td>\n      <td>5.0</td>\n      <td>2.0</td>\n      <td>2.0</td>\n      <td>1.0</td>\n      <td>1.0</td>\n      <td>1</td>\n      <td>1</td>\n      <td>1</td>\n      <td>1</td>\n      <td>1</td>\n    </tr>\n  </tbody>\n</table>\n<p>5 rows × 41 columns</p>\n</div>"
     },
     "execution_count": 140,
     "metadata": {},
     "output_type": "execute_result"
    }
   ],
   "source": [
    "#divide into 5 groups based on the rankings\n",
    "devscaled['2014']=devscaled['2014_rank'].apply(lambda x: int(x/11)+1)\n",
    "devscaled['2015']=devscaled['2015_rank'].apply(lambda x: int(x/11)+1)\n",
    "devscaled['2016']=devscaled['2016_rank'].apply(lambda x: int(x/11)+1)\n",
    "devscaled['2017']=devscaled['2017_rank'].apply(lambda x: int(x/11)+1)\n",
    "devscaled['2018']=devscaled['2018_rank'].apply(lambda x: int(x/11)+1)\n",
    "devscaled.head()"
   ],
   "metadata": {
    "collapsed": false,
    "pycharm": {
     "name": "#%%\n"
    }
   }
  },
  {
   "cell_type": "code",
   "execution_count": 141,
   "outputs": [
    {
     "data": {
      "text/plain": "<Figure size 720x720 with 1 Axes>",
      "image/png": "[encoded data removed]"
     },
     "metadata": {
      "needs_background": "light"
     },
     "output_type": "display_data"
    }
   ],
   "source": [
    "#plot the groups from all years\n",
    "plt.figure(figsize=(10,10))\n",
    "plt.plot(devscaled['2014'], devscaled['State'], 'o', color='red', label='2014')\n",
    "plt.plot(devscaled['2015'], devscaled['State'], 'o', color='blue', label='2015')\n",
    "plt.plot(devscaled['2016'], devscaled['State'], 'o', color='green', label='2016')\n",
    "plt.plot(devscaled['2017'], devscaled['State'], 'o', color='orange', label='2017')\n",
    "plt.plot(devscaled['2018'], devscaled['State'], 'o', color='black', label='2018')\n",
    "plt.legend(loc='upper left')\n",
    "plt.xlabel('Group')\n",
    "plt.ylabel('State')\n",
    "plt.title('Groups by State for All Years')\n",
    "plt.show()"
   ],
   "metadata": {
    "collapsed": false,
    "pycharm": {
     "name": "#%%\n"
    }
   }
  },
  {
   "cell_type": "code",
   "execution_count": 142,
   "outputs": [],
   "source": [
    "#save rankings to a file\n",
    "devscaled.to_csv('devscaled.csv', index=False)"
   ],
   "metadata": {
    "collapsed": false,
    "pycharm": {
     "name": "#%%\n"
    }
   }
  },
  {
   "cell_type": "code",
   "execution_count": 143,
   "outputs": [],
   "source": [
    "#"
   ],
   "metadata": {
    "collapsed": false,
    "pycharm": {
     "name": "#%%\n"
    }
   }
  }
 ],
 "metadata": {
  "kernelspec": {
   "display_name": "Python 3",
   "language": "python",
   "name": "python3"
  },
  "language_info": {
   "codemirror_mode": {
    "name": "ipython",
    "version": 2
   },
   "file_extension": ".py",
   "mimetype": "text/x-python",
   "name": "python",
   "nbconvert_exporter": "python",
   "pygments_lexer": "ipython2",
   "version": "2.7.6"
  }
 },
 "nbformat": 4,
 "nbformat_minor": 0
}