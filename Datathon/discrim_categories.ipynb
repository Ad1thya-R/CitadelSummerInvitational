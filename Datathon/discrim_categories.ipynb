{
 "cells": [
  {
   "cell_type": "markdown",
   "source": [
    "# Classifying each state into categories based on GDP, health, education, employment, and crime"
   ],
   "metadata": {
    "collapsed": false,
    "pycharm": {
     "name": "#%% md\n"
    }
   }
  },
  {
   "cell_type": "code",
   "execution_count": 65,
   "outputs": [],
   "source": [
    "# Importing the libraries\n",
    "import numpy as np\n",
    "import matplotlib.pyplot as plt\n",
    "import pandas as pd\n",
    "import seaborn as sns\n",
    "%matplotlib inline"
   ],
   "metadata": {
    "collapsed": false,
    "pycharm": {
     "name": "#%%\n"
    }
   }
  },
  {
   "cell_type": "code",
   "execution_count": 66,
   "outputs": [],
   "source": [
    "# Importing the dataset\n",
    "gdp= pd.read_csv('State_GDP_2014_2018.csv', delimiter=',')\n",
    "unemp= pd.read_csv('State_Unemployment_2014_2018.csv', delimiter=';')\n",
    "health= pd.read_csv('State_Health_2014_2018.csv', delimiter=';', decimal=\",\")\n",
    "edu= pd.read_csv('State_Educational_Attainment_2014_2018.csv', delimiter=';')\n",
    "crime= pd.read_csv('State_CrimeRates_per100k_2014_2018.csv', delimiter=';')"
   ],
   "metadata": {
    "collapsed": false,
    "pycharm": {
     "name": "#%%\n"
    }
   }
  },
  {
   "cell_type": "markdown",
   "source": [
    "## Cleaning the Datasets"
   ],
   "metadata": {
    "collapsed": false,
    "pycharm": {
     "name": "#%% md\n"
    }
   }
  },
  {
   "cell_type": "code",
   "execution_count": 67,
   "outputs": [
    {
     "data": {
      "text/plain": "      GeoName       2014       2015       2016        2017        2018\n0     Alabama   759545.3   765340.9   777135.2    790266.5    803203.6\n1      Alaska   216752.9   218963.4   216986.5    216518.1    212998.4\n2     Arizona  1107795.8  1130307.9  1165100.9   1209821.5   1254474.9\n3    Arkansas   446938.0   449403.9   451192.5    455540.6    463750.4\n4  California  9024218.9  9429811.7  9711578.3  10167077.1  10574305.0",
      "text/html": "<div>\n<style scoped>\n    .dataframe tbody tr th:only-of-type {\n        vertical-align: middle;\n    }\n\n    .dataframe tbody tr th {\n        vertical-align: top;\n    }\n\n    .dataframe thead th {\n        text-align: right;\n    }\n</style>\n<table border=\"1\" class=\"dataframe\">\n  <thead>\n    <tr style=\"text-align: right;\">\n      <th></th>\n      <th>GeoName</th>\n      <th>2014</th>\n      <th>2015</th>\n      <th>2016</th>\n      <th>2017</th>\n      <th>2018</th>\n    </tr>\n  </thead>\n  <tbody>\n    <tr>\n      <th>0</th>\n      <td>Alabama</td>\n      <td>759545.3</td>\n      <td>765340.9</td>\n      <td>777135.2</td>\n      <td>790266.5</td>\n      <td>803203.6</td>\n    </tr>\n    <tr>\n      <th>1</th>\n      <td>Alaska</td>\n      <td>216752.9</td>\n      <td>218963.4</td>\n      <td>216986.5</td>\n      <td>216518.1</td>\n      <td>212998.4</td>\n    </tr>\n    <tr>\n      <th>2</th>\n      <td>Arizona</td>\n      <td>1107795.8</td>\n      <td>1130307.9</td>\n      <td>1165100.9</td>\n      <td>1209821.5</td>\n      <td>1254474.9</td>\n    </tr>\n    <tr>\n      <th>3</th>\n      <td>Arkansas</td>\n      <td>446938.0</td>\n      <td>449403.9</td>\n      <td>451192.5</td>\n      <td>455540.6</td>\n      <td>463750.4</td>\n    </tr>\n    <tr>\n      <th>4</th>\n      <td>California</td>\n      <td>9024218.9</td>\n      <td>9429811.7</td>\n      <td>9711578.3</td>\n      <td>10167077.1</td>\n      <td>10574305.0</td>\n    </tr>\n  </tbody>\n</table>\n</div>"
     },
     "execution_count": 67,
     "metadata": {},
     "output_type": "execute_result"
    }
   ],
   "source": [
    "gdp.head()\n",
    "years=['2014','2015','2016','2017','2018']\n",
    "for y in years:\n",
    "    gdp[y]=gdp.loc[:,gdp.columns.str.contains(y)].sum(axis=1)\n",
    "gdp=gdp[['State']+years]\n",
    "gdp.head()\n"
   ],
   "metadata": {
    "collapsed": false,
    "pycharm": {
     "name": "#%%\n"
    }
   }
  },
  {
   "cell_type": "code",
   "execution_count": 68,
   "outputs": [
    {
     "data": {
      "text/plain": "     Location  2018  2017  2016  2015  2014\n0     Alabama  89.8  90.5  90.8  89.8  88.0\n1      Alaska  88.0  86.1  85.5  85.5  82.5\n2     Arizona  89.4  90.0  90.0  88.9  86.3\n3    Arkansas  91.7  92.0  92.0  90.6  88.2\n4  California  92.8  92.8  92.6  91.5  87.5",
      "text/html": "<div>\n<style scoped>\n    .dataframe tbody tr th:only-of-type {\n        vertical-align: middle;\n    }\n\n    .dataframe tbody tr th {\n        vertical-align: top;\n    }\n\n    .dataframe thead th {\n        text-align: right;\n    }\n</style>\n<table border=\"1\" class=\"dataframe\">\n  <thead>\n    <tr style=\"text-align: right;\">\n      <th></th>\n      <th>Location</th>\n      <th>2018</th>\n      <th>2017</th>\n      <th>2016</th>\n      <th>2015</th>\n      <th>2014</th>\n    </tr>\n  </thead>\n  <tbody>\n    <tr>\n      <th>0</th>\n      <td>Alabama</td>\n      <td>89.8</td>\n      <td>90.5</td>\n      <td>90.8</td>\n      <td>89.8</td>\n      <td>88.0</td>\n    </tr>\n    <tr>\n      <th>1</th>\n      <td>Alaska</td>\n      <td>88.0</td>\n      <td>86.1</td>\n      <td>85.5</td>\n      <td>85.5</td>\n      <td>82.5</td>\n    </tr>\n    <tr>\n      <th>2</th>\n      <td>Arizona</td>\n      <td>89.4</td>\n      <td>90.0</td>\n      <td>90.0</td>\n      <td>88.9</td>\n      <td>86.3</td>\n    </tr>\n    <tr>\n      <th>3</th>\n      <td>Arkansas</td>\n      <td>91.7</td>\n      <td>92.0</td>\n      <td>92.0</td>\n      <td>90.6</td>\n      <td>88.2</td>\n    </tr>\n    <tr>\n      <th>4</th>\n      <td>California</td>\n      <td>92.8</td>\n      <td>92.8</td>\n      <td>92.6</td>\n      <td>91.5</td>\n      <td>87.5</td>\n    </tr>\n  </tbody>\n</table>\n</div>"
     },
     "execution_count": 68,
     "metadata": {},
     "output_type": "execute_result"
    }
   ],
   "source": [
    "health=health.drop(['dropit'], axis=1)\n",
    "health.head()\n"
   ],
   "metadata": {
    "collapsed": false,
    "pycharm": {
     "name": "#%%\n"
    }
   }
  },
  {
   "cell_type": "code",
   "execution_count": 69,
   "outputs": [
    {
     "name": "stdout",
     "output_type": "stream",
     "text": [
      "<class 'pandas.core.frame.DataFrame'>\n",
      "RangeIndex: 52 entries, 0 to 51\n",
      "Data columns (total 6 columns):\n",
      " #   Column    Non-Null Count  Dtype  \n",
      "---  ------    --------------  -----  \n",
      " 0   Location  52 non-null     object \n",
      " 1   2018      52 non-null     float64\n",
      " 2   2017      52 non-null     float64\n",
      " 3   2016      52 non-null     float64\n",
      " 4   2015      52 non-null     float64\n",
      " 5   2014      52 non-null     float64\n",
      "dtypes: float64(5), object(1)\n",
      "memory usage: 2.6+ KB\n"
     ]
    }
   ],
   "source": [
    "health.info()"
   ],
   "metadata": {
    "collapsed": false,
    "pycharm": {
     "name": "#%%\n"
    }
   }
  },
  {
   "cell_type": "code",
   "execution_count": 69,
   "outputs": [],
   "source": [],
   "metadata": {
    "collapsed": false,
    "pycharm": {
     "name": "#%%\n"
    }
   }
  }
 ],
 "metadata": {
  "kernelspec": {
   "display_name": "Python 3",
   "language": "python",
   "name": "python3"
  },
  "language_info": {
   "codemirror_mode": {
    "name": "ipython",
    "version": 2
   },
   "file_extension": ".py",
   "mimetype": "text/x-python",
   "name": "python",
   "nbconvert_exporter": "python",
   "pygments_lexer": "ipython2",
   "version": "2.7.6"
  }
 },
 "nbformat": 4,
 "nbformat_minor": 0
}