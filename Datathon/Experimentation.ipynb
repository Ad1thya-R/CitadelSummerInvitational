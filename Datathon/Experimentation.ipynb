{
 "cells": [
  {
   "cell_type": "markdown",
   "source": [
    "# Loan Denial discrimination analysis"
   ],
   "metadata": {
    "collapsed": false,
    "pycharm": {
     "name": "#%% md\n"
    }
   }
  },
  {
   "cell_type": "code",
   "execution_count": 106,
   "outputs": [],
   "source": [
    "import pandas as pd\n",
    "import numpy as np\n",
    "import matplotlib.pyplot as plt\n",
    "import seaborn as sns"
   ],
   "metadata": {
    "collapsed": false,
    "pycharm": {
     "name": "#%%\n"
    }
   }
  },
  {
   "cell_type": "code",
   "execution_count": 107,
   "outputs": [
    {
     "name": "stderr",
     "output_type": "stream",
     "text": [
      "/var/folders/d3/ry6v0r7j28d4wdqwrz_hvdqc0000gn/T/ipykernel_49740/1814094668.py:1: DtypeWarning: Columns (19,59,118,129,130,131,134,135,136,139,145,146,147) have mixed types. Specify dtype option on import or set low_memory=False.\n",
      "  lc_accepted=pd.read_csv('LC_Data/Lending_Club_Accepted_2014_2018.csv')\n"
     ]
    },
    {
     "data": {
      "text/plain": "   loan_amnt   issue_d             purpose    dti addr_state emp_length  \\\n0     3600.0  Dec-2015  debt_consolidation   5.91         PA  10+ years   \n1    24700.0  Dec-2015      small_business  16.06         SD  10+ years   \n2    20000.0  Dec-2015    home_improvement  10.78         IL  10+ years   \n3    35000.0  Dec-2015  debt_consolidation  17.06         NJ  10+ years   \n4    10400.0  Dec-2015      major_purchase  25.37         PA    3 years   \n\n   policy_code  \n0          1.0  \n1          1.0  \n2          1.0  \n3          1.0  \n4          1.0  ",
      "text/html": "<div>\n<style scoped>\n    .dataframe tbody tr th:only-of-type {\n        vertical-align: middle;\n    }\n\n    .dataframe tbody tr th {\n        vertical-align: top;\n    }\n\n    .dataframe thead th {\n        text-align: right;\n    }\n</style>\n<table border=\"1\" class=\"dataframe\">\n  <thead>\n    <tr style=\"text-align: right;\">\n      <th></th>\n      <th>loan_amnt</th>\n      <th>issue_d</th>\n      <th>purpose</th>\n      <th>dti</th>\n      <th>addr_state</th>\n      <th>emp_length</th>\n      <th>policy_code</th>\n    </tr>\n  </thead>\n  <tbody>\n    <tr>\n      <th>0</th>\n      <td>3600.0</td>\n      <td>Dec-2015</td>\n      <td>debt_consolidation</td>\n      <td>5.91</td>\n      <td>PA</td>\n      <td>10+ years</td>\n      <td>1.0</td>\n    </tr>\n    <tr>\n      <th>1</th>\n      <td>24700.0</td>\n      <td>Dec-2015</td>\n      <td>small_business</td>\n      <td>16.06</td>\n      <td>SD</td>\n      <td>10+ years</td>\n      <td>1.0</td>\n    </tr>\n    <tr>\n      <th>2</th>\n      <td>20000.0</td>\n      <td>Dec-2015</td>\n      <td>home_improvement</td>\n      <td>10.78</td>\n      <td>IL</td>\n      <td>10+ years</td>\n      <td>1.0</td>\n    </tr>\n    <tr>\n      <th>3</th>\n      <td>35000.0</td>\n      <td>Dec-2015</td>\n      <td>debt_consolidation</td>\n      <td>17.06</td>\n      <td>NJ</td>\n      <td>10+ years</td>\n      <td>1.0</td>\n    </tr>\n    <tr>\n      <th>4</th>\n      <td>10400.0</td>\n      <td>Dec-2015</td>\n      <td>major_purchase</td>\n      <td>25.37</td>\n      <td>PA</td>\n      <td>3 years</td>\n      <td>1.0</td>\n    </tr>\n  </tbody>\n</table>\n</div>"
     },
     "execution_count": 107,
     "metadata": {},
     "output_type": "execute_result"
    }
   ],
   "source": [
    "lc_accepted=pd.read_csv('LC_Data/Lending_Club_Accepted_2014_2018.csv')\n",
    "lc_rejected=pd.read_csv('LC_Data/Lending_Club_Rejected_2014_2018.csv')\n",
    "lc_common=[ 'loan_amnt', 'issue_d', 'purpose', 'dti', 'addr_state', 'emp_length', 'policy_code']\n",
    "lc_accepted=lc_accepted[lc_common]\n",
    "lc_accepted.head()"
   ],
   "metadata": {
    "collapsed": false,
    "pycharm": {
     "name": "#%%\n"
    }
   }
  },
  {
   "cell_type": "code",
   "execution_count": 108,
   "outputs": [
    {
     "name": "stdout",
     "output_type": "stream",
     "text": [
      "0            2.69%\n",
      "1           28.26%\n",
      "2              -1%\n",
      "3           21.43%\n",
      "4            8.49%\n",
      "             ...  \n",
      "26132303    41.26%\n",
      "26132304     1.48%\n",
      "26132305    10.26%\n",
      "26132306    17.71%\n",
      "26132307    10.58%\n",
      "Name: Debt_to_Income_Ratio, Length: 26132308, dtype: object\n"
     ]
    }
   ],
   "source": [
    "lc_rejected.drop(['Zip_Code', 'Risk_Score'], axis=1, inplace=True)\n",
    "lc_rejected.head()\n",
    "print(lc_rejected['Debt_to_Income_Ratio'])"
   ],
   "metadata": {
    "collapsed": false,
    "pycharm": {
     "name": "#%%\n"
    }
   }
  },
  {
   "cell_type": "code",
   "execution_count": 109,
   "outputs": [
    {
     "name": "stderr",
     "output_type": "stream",
     "text": [
      "/var/folders/d3/ry6v0r7j28d4wdqwrz_hvdqc0000gn/T/ipykernel_49740/358241859.py:2: SettingWithCopyWarning: \n",
      "A value is trying to be set on a copy of a slice from a DataFrame\n",
      "\n",
      "See the caveats in the documentation: https://pandas.pydata.org/pandas-docs/stable/user_guide/indexing.html#returning-a-view-versus-a-copy\n",
      "  lc_accepted.rename(columns=rename_dict, inplace=True)\n"
     ]
    },
    {
     "data": {
      "text/plain": "   Amount_Requested Application_Date          Loan_Title  \\\n0            3600.0         Dec-2015  debt_consolidation   \n1           24700.0         Dec-2015      small_business   \n2           20000.0         Dec-2015    home_improvement   \n3           35000.0         Dec-2015  debt_consolidation   \n4           10400.0         Dec-2015      major_purchase   \n\n   Debt_to_Income_Ratio State Employment_Length  Policy_Code  \n0                  5.91    PA         10+ years          1.0  \n1                 16.06    SD         10+ years          1.0  \n2                 10.78    IL         10+ years          1.0  \n3                 17.06    NJ         10+ years          1.0  \n4                 25.37    PA           3 years          1.0  ",
      "text/html": "<div>\n<style scoped>\n    .dataframe tbody tr th:only-of-type {\n        vertical-align: middle;\n    }\n\n    .dataframe tbody tr th {\n        vertical-align: top;\n    }\n\n    .dataframe thead th {\n        text-align: right;\n    }\n</style>\n<table border=\"1\" class=\"dataframe\">\n  <thead>\n    <tr style=\"text-align: right;\">\n      <th></th>\n      <th>Amount_Requested</th>\n      <th>Application_Date</th>\n      <th>Loan_Title</th>\n      <th>Debt_to_Income_Ratio</th>\n      <th>State</th>\n      <th>Employment_Length</th>\n      <th>Policy_Code</th>\n    </tr>\n  </thead>\n  <tbody>\n    <tr>\n      <th>0</th>\n      <td>3600.0</td>\n      <td>Dec-2015</td>\n      <td>debt_consolidation</td>\n      <td>5.91</td>\n      <td>PA</td>\n      <td>10+ years</td>\n      <td>1.0</td>\n    </tr>\n    <tr>\n      <th>1</th>\n      <td>24700.0</td>\n      <td>Dec-2015</td>\n      <td>small_business</td>\n      <td>16.06</td>\n      <td>SD</td>\n      <td>10+ years</td>\n      <td>1.0</td>\n    </tr>\n    <tr>\n      <th>2</th>\n      <td>20000.0</td>\n      <td>Dec-2015</td>\n      <td>home_improvement</td>\n      <td>10.78</td>\n      <td>IL</td>\n      <td>10+ years</td>\n      <td>1.0</td>\n    </tr>\n    <tr>\n      <th>3</th>\n      <td>35000.0</td>\n      <td>Dec-2015</td>\n      <td>debt_consolidation</td>\n      <td>17.06</td>\n      <td>NJ</td>\n      <td>10+ years</td>\n      <td>1.0</td>\n    </tr>\n    <tr>\n      <th>4</th>\n      <td>10400.0</td>\n      <td>Dec-2015</td>\n      <td>major_purchase</td>\n      <td>25.37</td>\n      <td>PA</td>\n      <td>3 years</td>\n      <td>1.0</td>\n    </tr>\n  </tbody>\n</table>\n</div>"
     },
     "execution_count": 109,
     "metadata": {},
     "output_type": "execute_result"
    }
   ],
   "source": [
    "rename_dict={'addr_state':'State', 'loan_amnt':'Amount_Requested', 'issue_d':'Application_Date', 'purpose':'Loan_Title', 'dti':'Debt_to_Income_Ratio', 'emp_length':'Employment_Length', 'policy_code':'Policy_Code'}\n",
    "lc_accepted.rename(columns=rename_dict, inplace=True)\n",
    "lc_accepted.head()"
   ],
   "metadata": {
    "collapsed": false,
    "pycharm": {
     "name": "#%%\n"
    }
   }
  },
  {
   "cell_type": "code",
   "execution_count": 110,
   "outputs": [
    {
     "name": "stdout",
     "output_type": "stream",
     "text": [
      "<class 'pandas.core.frame.DataFrame'>\n",
      "RangeIndex: 2029952 entries, 0 to 2029951\n",
      "Data columns (total 8 columns):\n",
      " #   Column                Dtype  \n",
      "---  ------                -----  \n",
      " 0   Amount_Requested      float64\n",
      " 1   Application_Date      object \n",
      " 2   Loan_Title            object \n",
      " 3   Debt_to_Income_Ratio  float64\n",
      " 4   State                 object \n",
      " 5   Employment_Length     object \n",
      " 6   Policy_Code           float64\n",
      " 7   Accepted              int64  \n",
      "dtypes: float64(3), int64(1), object(4)\n",
      "memory usage: 123.9+ MB\n"
     ]
    }
   ],
   "source": [
    "#create column to indicate loans were accepted or rejected\n",
    "lc_accepted['Accepted']=1\n",
    "lc_accepted.info()"
   ],
   "metadata": {
    "collapsed": false,
    "pycharm": {
     "name": "#%%\n"
    }
   }
  },
  {
   "cell_type": "code",
   "execution_count": 111,
   "outputs": [
    {
     "name": "stdout",
     "output_type": "stream",
     "text": [
      "<class 'pandas.core.frame.DataFrame'>\n",
      "RangeIndex: 26132308 entries, 0 to 26132307\n",
      "Data columns (total 8 columns):\n",
      " #   Column                Dtype  \n",
      "---  ------                -----  \n",
      " 0   Amount_Requested      float64\n",
      " 1   Application_Date      object \n",
      " 2   Loan_Title            object \n",
      " 3   Debt_to_Income_Ratio  object \n",
      " 4   State                 object \n",
      " 5   Employment_Length     object \n",
      " 6   Policy_Code           float64\n",
      " 7   Accepted              int64  \n",
      "dtypes: float64(2), int64(1), object(5)\n",
      "memory usage: 1.6+ GB\n"
     ]
    }
   ],
   "source": [
    "lc_rejected['Accepted']=0\n",
    "lc_rejected.info()"
   ],
   "metadata": {
    "collapsed": false,
    "pycharm": {
     "name": "#%%\n"
    }
   }
  },
  {
   "cell_type": "code",
   "execution_count": 112,
   "outputs": [
    {
     "name": "stdout",
     "output_type": "stream",
     "text": [
      "<class 'pandas.core.frame.DataFrame'>\n",
      "RangeIndex: 26132308 entries, 0 to 26132307\n",
      "Data columns (total 8 columns):\n",
      " #   Column                Dtype  \n",
      "---  ------                -----  \n",
      " 0   Amount_Requested      float64\n",
      " 1   Application_Date      object \n",
      " 2   Loan_Title            object \n",
      " 3   Debt_to_Income_Ratio  float64\n",
      " 4   State                 object \n",
      " 5   Employment_Length     object \n",
      " 6   Policy_Code           float64\n",
      " 7   Accepted              int64  \n",
      "dtypes: float64(3), int64(1), object(4)\n",
      "memory usage: 1.6+ GB\n"
     ]
    }
   ],
   "source": [
    "#convert Debt_to_Income_Ratio to numeric in lc_rejected\n",
    "lc_rejected['Debt_to_Income_Ratio']=pd.to_numeric(lc_rejected['Debt_to_Income_Ratio'].str.strip('%'))\n",
    "lc_rejected.info()"
   ],
   "metadata": {
    "collapsed": false,
    "pycharm": {
     "name": "#%%\n"
    }
   }
  },
  {
   "cell_type": "code",
   "execution_count": 113,
   "outputs": [
    {
     "name": "stderr",
     "output_type": "stream",
     "text": [
      "/var/folders/d3/ry6v0r7j28d4wdqwrz_hvdqc0000gn/T/ipykernel_49740/2391448617.py:2: FutureWarning: The frame.append method is deprecated and will be removed from pandas in a future version. Use pandas.concat instead.\n",
      "  lc_all=lc_accepted.append(lc_rejected, ignore_index=True)\n"
     ]
    },
    {
     "name": "stdout",
     "output_type": "stream",
     "text": [
      "<class 'pandas.core.frame.DataFrame'>\n",
      "Int64Index: 28158341 entries, 0 to 28162259\n",
      "Data columns (total 8 columns):\n",
      " #   Column                Dtype  \n",
      "---  ------                -----  \n",
      " 0   Amount_Requested      float64\n",
      " 1   Application_Date      object \n",
      " 2   Loan_Title            object \n",
      " 3   Debt_to_Income_Ratio  float64\n",
      " 4   State                 object \n",
      " 5   Employment_Length     object \n",
      " 6   Policy_Code           float64\n",
      " 7   Accepted              int64  \n",
      "dtypes: float64(3), int64(1), object(4)\n",
      "memory usage: 1.9+ GB\n"
     ]
    }
   ],
   "source": [
    "#append lc_accepted and lc_rejected to create a single dataframe\n",
    "lc_all=lc_accepted.append(lc_rejected, ignore_index=True)\n",
    "lc_all['Employment_Length'].fillna(0, inplace=True)\n",
    "lc_all.dropna(inplace=True)\n",
    "lc_all.info()"
   ],
   "metadata": {
    "collapsed": false,
    "pycharm": {
     "name": "#%%\n"
    }
   }
  },
  {
   "cell_type": "code",
   "execution_count": 114,
   "outputs": [
    {
     "data": {
      "text/plain": "   Amount_Requested Application_Date          Loan_Title  \\\n0            3600.0         Dec-2015  debt_consolidation   \n1           24700.0         Dec-2015      small_business   \n2           20000.0         Dec-2015    home_improvement   \n3           35000.0         Dec-2015  debt_consolidation   \n4           10400.0         Dec-2015      major_purchase   \n\n   Debt_to_Income_Ratio State Employment_Length  Policy_Code  Accepted  \n0                  5.91    PA         10+ years          1.0         1  \n1                 16.06    SD         10+ years          1.0         1  \n2                 10.78    IL         10+ years          1.0         1  \n3                 17.06    NJ         10+ years          1.0         1  \n4                 25.37    PA           3 years          1.0         1  ",
      "text/html": "<div>\n<style scoped>\n    .dataframe tbody tr th:only-of-type {\n        vertical-align: middle;\n    }\n\n    .dataframe tbody tr th {\n        vertical-align: top;\n    }\n\n    .dataframe thead th {\n        text-align: right;\n    }\n</style>\n<table border=\"1\" class=\"dataframe\">\n  <thead>\n    <tr style=\"text-align: right;\">\n      <th></th>\n      <th>Amount_Requested</th>\n      <th>Application_Date</th>\n      <th>Loan_Title</th>\n      <th>Debt_to_Income_Ratio</th>\n      <th>State</th>\n      <th>Employment_Length</th>\n      <th>Policy_Code</th>\n      <th>Accepted</th>\n    </tr>\n  </thead>\n  <tbody>\n    <tr>\n      <th>0</th>\n      <td>3600.0</td>\n      <td>Dec-2015</td>\n      <td>debt_consolidation</td>\n      <td>5.91</td>\n      <td>PA</td>\n      <td>10+ years</td>\n      <td>1.0</td>\n      <td>1</td>\n    </tr>\n    <tr>\n      <th>1</th>\n      <td>24700.0</td>\n      <td>Dec-2015</td>\n      <td>small_business</td>\n      <td>16.06</td>\n      <td>SD</td>\n      <td>10+ years</td>\n      <td>1.0</td>\n      <td>1</td>\n    </tr>\n    <tr>\n      <th>2</th>\n      <td>20000.0</td>\n      <td>Dec-2015</td>\n      <td>home_improvement</td>\n      <td>10.78</td>\n      <td>IL</td>\n      <td>10+ years</td>\n      <td>1.0</td>\n      <td>1</td>\n    </tr>\n    <tr>\n      <th>3</th>\n      <td>35000.0</td>\n      <td>Dec-2015</td>\n      <td>debt_consolidation</td>\n      <td>17.06</td>\n      <td>NJ</td>\n      <td>10+ years</td>\n      <td>1.0</td>\n      <td>1</td>\n    </tr>\n    <tr>\n      <th>4</th>\n      <td>10400.0</td>\n      <td>Dec-2015</td>\n      <td>major_purchase</td>\n      <td>25.37</td>\n      <td>PA</td>\n      <td>3 years</td>\n      <td>1.0</td>\n      <td>1</td>\n    </tr>\n  </tbody>\n</table>\n</div>"
     },
     "execution_count": 114,
     "metadata": {},
     "output_type": "execute_result"
    }
   ],
   "source": [
    "lc_all.head()"
   ],
   "metadata": {
    "collapsed": false,
    "pycharm": {
     "name": "#%%\n"
    }
   }
  },
  {
   "cell_type": "code",
   "execution_count": 115,
   "outputs": [
    {
     "data": {
      "text/plain": "          Amount_Requested Application_Date               Loan_Title  \\\n8799113            30000.0       2014-05-14              credit_card   \n22800799            2000.0       2015-04-01                    other   \n23170119           10000.0       2015-05-21       debt_consolidation   \n20206634           35000.0       2018-06-30  Credit card refinancing   \n8744231             2000.0       2014-05-02       debt_consolidation   \n...                    ...              ...                      ...   \n11876147           20000.0       2018-03-22       Debt consolidation   \n18505251           10000.0       2018-04-30       Debt consolidation   \n12019240            3500.0       2018-03-28         Home improvement   \n9539007             1000.0       2014-09-07                    other   \n13637721            5000.0       2017-09-11                    other   \n\n          Debt_to_Income_Ratio State Employment_Length  Policy_Code  Accepted  \n8799113                  21.16    AK          < 1 year          0.0         0  \n22800799                 26.10    AK           5 years          0.0         0  \n23170119                 20.76    AK          < 1 year          0.0         0  \n20206634                 86.45    AK          < 1 year          0.0         0  \n8744231                  21.84    AK          < 1 year          0.0         0  \n...                        ...   ...               ...          ...       ...  \n11876147                 17.48    AK          < 1 year          0.0         0  \n18505251                 17.50    AK          < 1 year          0.0         0  \n12019240                100.00    AK          < 1 year          0.0         0  \n9539007                  -1.00    AK          < 1 year          0.0         0  \n13637721                 35.25    AK           5 years          0.0         0  \n\n[1000 rows x 8 columns]",
      "text/html": "<div>\n<style scoped>\n    .dataframe tbody tr th:only-of-type {\n        vertical-align: middle;\n    }\n\n    .dataframe tbody tr th {\n        vertical-align: top;\n    }\n\n    .dataframe thead th {\n        text-align: right;\n    }\n</style>\n<table border=\"1\" class=\"dataframe\">\n  <thead>\n    <tr style=\"text-align: right;\">\n      <th></th>\n      <th>Amount_Requested</th>\n      <th>Application_Date</th>\n      <th>Loan_Title</th>\n      <th>Debt_to_Income_Ratio</th>\n      <th>State</th>\n      <th>Employment_Length</th>\n      <th>Policy_Code</th>\n      <th>Accepted</th>\n    </tr>\n  </thead>\n  <tbody>\n    <tr>\n      <th>8799113</th>\n      <td>30000.0</td>\n      <td>2014-05-14</td>\n      <td>credit_card</td>\n      <td>21.16</td>\n      <td>AK</td>\n      <td>&lt; 1 year</td>\n      <td>0.0</td>\n      <td>0</td>\n    </tr>\n    <tr>\n      <th>22800799</th>\n      <td>2000.0</td>\n      <td>2015-04-01</td>\n      <td>other</td>\n      <td>26.10</td>\n      <td>AK</td>\n      <td>5 years</td>\n      <td>0.0</td>\n      <td>0</td>\n    </tr>\n    <tr>\n      <th>23170119</th>\n      <td>10000.0</td>\n      <td>2015-05-21</td>\n      <td>debt_consolidation</td>\n      <td>20.76</td>\n      <td>AK</td>\n      <td>&lt; 1 year</td>\n      <td>0.0</td>\n      <td>0</td>\n    </tr>\n    <tr>\n      <th>20206634</th>\n      <td>35000.0</td>\n      <td>2018-06-30</td>\n      <td>Credit card refinancing</td>\n      <td>86.45</td>\n      <td>AK</td>\n      <td>&lt; 1 year</td>\n      <td>0.0</td>\n      <td>0</td>\n    </tr>\n    <tr>\n      <th>8744231</th>\n      <td>2000.0</td>\n      <td>2014-05-02</td>\n      <td>debt_consolidation</td>\n      <td>21.84</td>\n      <td>AK</td>\n      <td>&lt; 1 year</td>\n      <td>0.0</td>\n      <td>0</td>\n    </tr>\n    <tr>\n      <th>...</th>\n      <td>...</td>\n      <td>...</td>\n      <td>...</td>\n      <td>...</td>\n      <td>...</td>\n      <td>...</td>\n      <td>...</td>\n      <td>...</td>\n    </tr>\n    <tr>\n      <th>11876147</th>\n      <td>20000.0</td>\n      <td>2018-03-22</td>\n      <td>Debt consolidation</td>\n      <td>17.48</td>\n      <td>AK</td>\n      <td>&lt; 1 year</td>\n      <td>0.0</td>\n      <td>0</td>\n    </tr>\n    <tr>\n      <th>18505251</th>\n      <td>10000.0</td>\n      <td>2018-04-30</td>\n      <td>Debt consolidation</td>\n      <td>17.50</td>\n      <td>AK</td>\n      <td>&lt; 1 year</td>\n      <td>0.0</td>\n      <td>0</td>\n    </tr>\n    <tr>\n      <th>12019240</th>\n      <td>3500.0</td>\n      <td>2018-03-28</td>\n      <td>Home improvement</td>\n      <td>100.00</td>\n      <td>AK</td>\n      <td>&lt; 1 year</td>\n      <td>0.0</td>\n      <td>0</td>\n    </tr>\n    <tr>\n      <th>9539007</th>\n      <td>1000.0</td>\n      <td>2014-09-07</td>\n      <td>other</td>\n      <td>-1.00</td>\n      <td>AK</td>\n      <td>&lt; 1 year</td>\n      <td>0.0</td>\n      <td>0</td>\n    </tr>\n    <tr>\n      <th>13637721</th>\n      <td>5000.0</td>\n      <td>2017-09-11</td>\n      <td>other</td>\n      <td>35.25</td>\n      <td>AK</td>\n      <td>5 years</td>\n      <td>0.0</td>\n      <td>0</td>\n    </tr>\n  </tbody>\n</table>\n<p>1000 rows × 8 columns</p>\n</div>"
     },
     "execution_count": 115,
     "metadata": {},
     "output_type": "execute_result"
    }
   ],
   "source": [
    "#sort lc_all by state\n",
    "lc_all.sort_values(by='State', inplace=True)\n",
    "lc_all.head(1000)"
   ],
   "metadata": {
    "collapsed": false,
    "pycharm": {
     "name": "#%%\n"
    }
   }
  },
  {
   "cell_type": "markdown",
   "source": [
    "## Add the categorization of the states to the dataframe"
   ],
   "metadata": {
    "collapsed": false,
    "pycharm": {
     "name": "#%% md\n"
    }
   }
  },
  {
   "cell_type": "code",
   "execution_count": 116,
   "outputs": [
    {
     "data": {
      "text/plain": "       2014_gdp  2015_gdp  2016_gdp  2017_gdp  2018_gdp  2014_unemp  \\\nState                                                                 \nAL     0.072278  0.069670  0.068742  0.066898  0.065489   -0.788462   \nAK     0.011349  0.011004  0.010356  0.009803  0.009041   -0.807692   \nAZ     0.111370  0.108858  0.109180  0.108649  0.108648   -0.788462   \nAR     0.037188  0.035747  0.034768  0.033589  0.033023   -0.634615   \nCA     1.000000  1.000000  1.000000  1.000000  1.000000   -0.923077   \n\n       2015_unemp  2016_unemp  2017_unemp  2018_unemp  ...  2014_rank  \\\nState                                                  ...              \nAL      -0.804878      -0.725   -0.434783   -0.357143  ...       41.0   \nAK      -0.902439      -1.000   -1.000000   -1.000000  ...       51.0   \nAZ      -0.804878      -0.625   -0.543478   -0.571429  ...       48.0   \nAR      -0.536585      -0.275   -0.282609   -0.309524  ...       39.0   \nCA      -0.829268      -0.650   -0.521739   -0.428571  ...        5.0   \n\n       2015_rank  2016_rank  2017_rank  2018_rank  2014  2015  2016  2017  \\\nState                                                                       \nAL          43.0       44.0       42.0       44.0     4     4     5     4   \nAK          51.0       51.0       51.0       51.0     5     5     5     5   \nAZ          46.0       46.0       48.0       48.0     5     5     5     5   \nAR          36.0       28.0       31.0       36.0     4     4     3     3   \nCA           2.0        2.0        1.0        1.0     1     1     1     1   \n\n       2018  \nState        \nAL        5  \nAK        5  \nAZ        5  \nAR        4  \nCA        1  \n\n[5 rows x 40 columns]",
      "text/html": "<div>\n<style scoped>\n    .dataframe tbody tr th:only-of-type {\n        vertical-align: middle;\n    }\n\n    .dataframe tbody tr th {\n        vertical-align: top;\n    }\n\n    .dataframe thead th {\n        text-align: right;\n    }\n</style>\n<table border=\"1\" class=\"dataframe\">\n  <thead>\n    <tr style=\"text-align: right;\">\n      <th></th>\n      <th>2014_gdp</th>\n      <th>2015_gdp</th>\n      <th>2016_gdp</th>\n      <th>2017_gdp</th>\n      <th>2018_gdp</th>\n      <th>2014_unemp</th>\n      <th>2015_unemp</th>\n      <th>2016_unemp</th>\n      <th>2017_unemp</th>\n      <th>2018_unemp</th>\n      <th>...</th>\n      <th>2014_rank</th>\n      <th>2015_rank</th>\n      <th>2016_rank</th>\n      <th>2017_rank</th>\n      <th>2018_rank</th>\n      <th>2014</th>\n      <th>2015</th>\n      <th>2016</th>\n      <th>2017</th>\n      <th>2018</th>\n    </tr>\n    <tr>\n      <th>State</th>\n      <th></th>\n      <th></th>\n      <th></th>\n      <th></th>\n      <th></th>\n      <th></th>\n      <th></th>\n      <th></th>\n      <th></th>\n      <th></th>\n      <th></th>\n      <th></th>\n      <th></th>\n      <th></th>\n      <th></th>\n      <th></th>\n      <th></th>\n      <th></th>\n      <th></th>\n      <th></th>\n      <th></th>\n    </tr>\n  </thead>\n  <tbody>\n    <tr>\n      <th>AL</th>\n      <td>0.072278</td>\n      <td>0.069670</td>\n      <td>0.068742</td>\n      <td>0.066898</td>\n      <td>0.065489</td>\n      <td>-0.788462</td>\n      <td>-0.804878</td>\n      <td>-0.725</td>\n      <td>-0.434783</td>\n      <td>-0.357143</td>\n      <td>...</td>\n      <td>41.0</td>\n      <td>43.0</td>\n      <td>44.0</td>\n      <td>42.0</td>\n      <td>44.0</td>\n      <td>4</td>\n      <td>4</td>\n      <td>5</td>\n      <td>4</td>\n      <td>5</td>\n    </tr>\n    <tr>\n      <th>AK</th>\n      <td>0.011349</td>\n      <td>0.011004</td>\n      <td>0.010356</td>\n      <td>0.009803</td>\n      <td>0.009041</td>\n      <td>-0.807692</td>\n      <td>-0.902439</td>\n      <td>-1.000</td>\n      <td>-1.000000</td>\n      <td>-1.000000</td>\n      <td>...</td>\n      <td>51.0</td>\n      <td>51.0</td>\n      <td>51.0</td>\n      <td>51.0</td>\n      <td>51.0</td>\n      <td>5</td>\n      <td>5</td>\n      <td>5</td>\n      <td>5</td>\n      <td>5</td>\n    </tr>\n    <tr>\n      <th>AZ</th>\n      <td>0.111370</td>\n      <td>0.108858</td>\n      <td>0.109180</td>\n      <td>0.108649</td>\n      <td>0.108648</td>\n      <td>-0.788462</td>\n      <td>-0.804878</td>\n      <td>-0.625</td>\n      <td>-0.543478</td>\n      <td>-0.571429</td>\n      <td>...</td>\n      <td>48.0</td>\n      <td>46.0</td>\n      <td>46.0</td>\n      <td>48.0</td>\n      <td>48.0</td>\n      <td>5</td>\n      <td>5</td>\n      <td>5</td>\n      <td>5</td>\n      <td>5</td>\n    </tr>\n    <tr>\n      <th>AR</th>\n      <td>0.037188</td>\n      <td>0.035747</td>\n      <td>0.034768</td>\n      <td>0.033589</td>\n      <td>0.033023</td>\n      <td>-0.634615</td>\n      <td>-0.536585</td>\n      <td>-0.275</td>\n      <td>-0.282609</td>\n      <td>-0.309524</td>\n      <td>...</td>\n      <td>39.0</td>\n      <td>36.0</td>\n      <td>28.0</td>\n      <td>31.0</td>\n      <td>36.0</td>\n      <td>4</td>\n      <td>4</td>\n      <td>3</td>\n      <td>3</td>\n      <td>4</td>\n    </tr>\n    <tr>\n      <th>CA</th>\n      <td>1.000000</td>\n      <td>1.000000</td>\n      <td>1.000000</td>\n      <td>1.000000</td>\n      <td>1.000000</td>\n      <td>-0.923077</td>\n      <td>-0.829268</td>\n      <td>-0.650</td>\n      <td>-0.521739</td>\n      <td>-0.428571</td>\n      <td>...</td>\n      <td>5.0</td>\n      <td>2.0</td>\n      <td>2.0</td>\n      <td>1.0</td>\n      <td>1.0</td>\n      <td>1</td>\n      <td>1</td>\n      <td>1</td>\n      <td>1</td>\n      <td>1</td>\n    </tr>\n  </tbody>\n</table>\n<p>5 rows × 40 columns</p>\n</div>"
     },
     "execution_count": 116,
     "metadata": {},
     "output_type": "execute_result"
    }
   ],
   "source": [
    "#import the state categories from the csv file\n",
    "devscaled=pd.read_csv('devscaled.csv')\n",
    "devscaled.set_index('State', inplace=True)\n",
    "devscaled.head()"
   ],
   "metadata": {
    "collapsed": false,
    "pycharm": {
     "name": "#%%\n"
    }
   }
  },
  {
   "cell_type": "code",
   "execution_count": 117,
   "outputs": [
    {
     "name": "stdout",
     "output_type": "stream",
     "text": [
      "<class 'pandas.core.frame.DataFrame'>\n",
      "Index: 51 entries, AL to WY\n",
      "Data columns (total 40 columns):\n",
      " #   Column       Non-Null Count  Dtype  \n",
      "---  ------       --------------  -----  \n",
      " 0   2014_gdp     51 non-null     float64\n",
      " 1   2015_gdp     51 non-null     float64\n",
      " 2   2016_gdp     51 non-null     float64\n",
      " 3   2017_gdp     51 non-null     float64\n",
      " 4   2018_gdp     51 non-null     float64\n",
      " 5   2014_unemp   51 non-null     float64\n",
      " 6   2015_unemp   51 non-null     float64\n",
      " 7   2016_unemp   51 non-null     float64\n",
      " 8   2017_unemp   51 non-null     float64\n",
      " 9   2018_unemp   51 non-null     float64\n",
      " 10  2018_health  51 non-null     float64\n",
      " 11  2017_health  51 non-null     float64\n",
      " 12  2016_health  51 non-null     float64\n",
      " 13  2015_health  51 non-null     float64\n",
      " 14  2014_health  51 non-null     float64\n",
      " 15  2018_edu     51 non-null     float64\n",
      " 16  2017_edu     51 non-null     float64\n",
      " 17  2016_edu     51 non-null     float64\n",
      " 18  2015_edu     51 non-null     float64\n",
      " 19  2014_edu     51 non-null     float64\n",
      " 20  2018_crime   51 non-null     float64\n",
      " 21  2017_crime   51 non-null     float64\n",
      " 22  2016_crime   51 non-null     float64\n",
      " 23  2015_crime   51 non-null     float64\n",
      " 24  2014_crime   51 non-null     float64\n",
      " 25  2014_total   51 non-null     float64\n",
      " 26  2015_total   51 non-null     float64\n",
      " 27  2016_total   51 non-null     float64\n",
      " 28  2017_total   51 non-null     float64\n",
      " 29  2018_total   51 non-null     float64\n",
      " 30  2014_rank    51 non-null     float64\n",
      " 31  2015_rank    51 non-null     float64\n",
      " 32  2016_rank    51 non-null     float64\n",
      " 33  2017_rank    51 non-null     float64\n",
      " 34  2018_rank    51 non-null     float64\n",
      " 35  2014         51 non-null     int64  \n",
      " 36  2015         51 non-null     int64  \n",
      " 37  2016         51 non-null     int64  \n",
      " 38  2017         51 non-null     int64  \n",
      " 39  2018         51 non-null     int64  \n",
      "dtypes: float64(35), int64(5)\n",
      "memory usage: 16.3+ KB\n"
     ]
    }
   ],
   "source": [
    "devscaled.info()"
   ],
   "metadata": {
    "collapsed": false,
    "pycharm": {
     "name": "#%%\n"
    }
   }
  },
  {
   "cell_type": "code",
   "execution_count": 118,
   "outputs": [
    {
     "data": {
      "text/plain": "          Amount_Requested Application_Date               Loan_Title  \\\n8799113            30000.0       2014-05-14              credit_card   \n22800799            2000.0       2015-04-01                    other   \n23170119           10000.0       2015-05-21       debt_consolidation   \n20206634           35000.0       2018-06-30  Credit card refinancing   \n8744231             2000.0       2014-05-02       debt_consolidation   \n\n          Debt_to_Income_Ratio State Employment_Length  Policy_Code  Accepted  \\\n8799113                  21.16    AK          < 1 year          0.0         0   \n22800799                 26.10    AK           5 years          0.0         0   \n23170119                 20.76    AK          < 1 year          0.0         0   \n20206634                 86.45    AK          < 1 year          0.0         0   \n8744231                  21.84    AK          < 1 year          0.0         0   \n\n          Year  \n8799113   2014  \n22800799  2015  \n23170119  2015  \n20206634  2018  \n8744231   2014  ",
      "text/html": "<div>\n<style scoped>\n    .dataframe tbody tr th:only-of-type {\n        vertical-align: middle;\n    }\n\n    .dataframe tbody tr th {\n        vertical-align: top;\n    }\n\n    .dataframe thead th {\n        text-align: right;\n    }\n</style>\n<table border=\"1\" class=\"dataframe\">\n  <thead>\n    <tr style=\"text-align: right;\">\n      <th></th>\n      <th>Amount_Requested</th>\n      <th>Application_Date</th>\n      <th>Loan_Title</th>\n      <th>Debt_to_Income_Ratio</th>\n      <th>State</th>\n      <th>Employment_Length</th>\n      <th>Policy_Code</th>\n      <th>Accepted</th>\n      <th>Year</th>\n    </tr>\n  </thead>\n  <tbody>\n    <tr>\n      <th>8799113</th>\n      <td>30000.0</td>\n      <td>2014-05-14</td>\n      <td>credit_card</td>\n      <td>21.16</td>\n      <td>AK</td>\n      <td>&lt; 1 year</td>\n      <td>0.0</td>\n      <td>0</td>\n      <td>2014</td>\n    </tr>\n    <tr>\n      <th>22800799</th>\n      <td>2000.0</td>\n      <td>2015-04-01</td>\n      <td>other</td>\n      <td>26.10</td>\n      <td>AK</td>\n      <td>5 years</td>\n      <td>0.0</td>\n      <td>0</td>\n      <td>2015</td>\n    </tr>\n    <tr>\n      <th>23170119</th>\n      <td>10000.0</td>\n      <td>2015-05-21</td>\n      <td>debt_consolidation</td>\n      <td>20.76</td>\n      <td>AK</td>\n      <td>&lt; 1 year</td>\n      <td>0.0</td>\n      <td>0</td>\n      <td>2015</td>\n    </tr>\n    <tr>\n      <th>20206634</th>\n      <td>35000.0</td>\n      <td>2018-06-30</td>\n      <td>Credit card refinancing</td>\n      <td>86.45</td>\n      <td>AK</td>\n      <td>&lt; 1 year</td>\n      <td>0.0</td>\n      <td>0</td>\n      <td>2018</td>\n    </tr>\n    <tr>\n      <th>8744231</th>\n      <td>2000.0</td>\n      <td>2014-05-02</td>\n      <td>debt_consolidation</td>\n      <td>21.84</td>\n      <td>AK</td>\n      <td>&lt; 1 year</td>\n      <td>0.0</td>\n      <td>0</td>\n      <td>2014</td>\n    </tr>\n  </tbody>\n</table>\n</div>"
     },
     "execution_count": 118,
     "metadata": {},
     "output_type": "execute_result"
    }
   ],
   "source": [
    "lc_all['Year']=lc_all['Application_Date'].str.extract('(\\d{4})', expand=False)\n",
    "lc_all.head()"
   ],
   "metadata": {
    "collapsed": false,
    "pycharm": {
     "name": "#%%\n"
    }
   }
  },
  {
   "cell_type": "code",
   "execution_count": 119,
   "outputs": [],
   "source": [
    "#add a State_Category column to the lc_all dataframe by the year and the state in the devscaled dataframe\n",
    "lc_all['State_Category']=lc_all.apply(lambda x: devscaled.loc[x['State'], x['Year']], axis=1)\n",
    "\n"
   ],
   "metadata": {
    "collapsed": false,
    "pycharm": {
     "name": "#%%\n"
    }
   }
  },
  {
   "cell_type": "code",
   "execution_count": 120,
   "outputs": [
    {
     "data": {
      "text/plain": "          Amount_Requested Application_Date               Loan_Title  \\\n8799113            30000.0       2014-05-14              credit_card   \n22800799            2000.0       2015-04-01                    other   \n23170119           10000.0       2015-05-21       debt_consolidation   \n20206634           35000.0       2018-06-30  Credit card refinancing   \n8744231             2000.0       2014-05-02       debt_consolidation   \n...                    ...              ...                      ...   \n11021735           25000.0       2018-02-08       Debt consolidation   \n8156784            23000.0       2018-09-26       Debt consolidation   \n11067661            5000.0       2018-02-12            Car financing   \n5517298             5000.0       2017-03-21       debt_consolidation   \n3769599             8000.0       2016-08-24       debt_consolidation   \n\n          Debt_to_Income_Ratio State Employment_Length  Policy_Code  Accepted  \\\n8799113                  21.16    AK          < 1 year          0.0         0   \n22800799                 26.10    AK           5 years          0.0         0   \n23170119                 20.76    AK          < 1 year          0.0         0   \n20206634                 86.45    AK          < 1 year          0.0         0   \n8744231                  21.84    AK          < 1 year          0.0         0   \n...                        ...   ...               ...          ...       ...   \n11021735                 15.86    AK           2 years          0.0         0   \n8156784                  23.00    AK          < 1 year          0.0         0   \n11067661                 15.97    AK          < 1 year          0.0         0   \n5517298                   6.27    AK          < 1 year          0.0         0   \n3769599                   0.25    AK          < 1 year          0.0         0   \n\n          Year  State_Category  \n8799113   2014               5  \n22800799  2015               5  \n23170119  2015               5  \n20206634  2018               5  \n8744231   2014               5  \n...        ...             ...  \n11021735  2018               5  \n8156784   2018               5  \n11067661  2018               5  \n5517298   2017               5  \n3769599   2016               5  \n\n[10000 rows x 10 columns]",
      "text/html": "<div>\n<style scoped>\n    .dataframe tbody tr th:only-of-type {\n        vertical-align: middle;\n    }\n\n    .dataframe tbody tr th {\n        vertical-align: top;\n    }\n\n    .dataframe thead th {\n        text-align: right;\n    }\n</style>\n<table border=\"1\" class=\"dataframe\">\n  <thead>\n    <tr style=\"text-align: right;\">\n      <th></th>\n      <th>Amount_Requested</th>\n      <th>Application_Date</th>\n      <th>Loan_Title</th>\n      <th>Debt_to_Income_Ratio</th>\n      <th>State</th>\n      <th>Employment_Length</th>\n      <th>Policy_Code</th>\n      <th>Accepted</th>\n      <th>Year</th>\n      <th>State_Category</th>\n    </tr>\n  </thead>\n  <tbody>\n    <tr>\n      <th>8799113</th>\n      <td>30000.0</td>\n      <td>2014-05-14</td>\n      <td>credit_card</td>\n      <td>21.16</td>\n      <td>AK</td>\n      <td>&lt; 1 year</td>\n      <td>0.0</td>\n      <td>0</td>\n      <td>2014</td>\n      <td>5</td>\n    </tr>\n    <tr>\n      <th>22800799</th>\n      <td>2000.0</td>\n      <td>2015-04-01</td>\n      <td>other</td>\n      <td>26.10</td>\n      <td>AK</td>\n      <td>5 years</td>\n      <td>0.0</td>\n      <td>0</td>\n      <td>2015</td>\n      <td>5</td>\n    </tr>\n    <tr>\n      <th>23170119</th>\n      <td>10000.0</td>\n      <td>2015-05-21</td>\n      <td>debt_consolidation</td>\n      <td>20.76</td>\n      <td>AK</td>\n      <td>&lt; 1 year</td>\n      <td>0.0</td>\n      <td>0</td>\n      <td>2015</td>\n      <td>5</td>\n    </tr>\n    <tr>\n      <th>20206634</th>\n      <td>35000.0</td>\n      <td>2018-06-30</td>\n      <td>Credit card refinancing</td>\n      <td>86.45</td>\n      <td>AK</td>\n      <td>&lt; 1 year</td>\n      <td>0.0</td>\n      <td>0</td>\n      <td>2018</td>\n      <td>5</td>\n    </tr>\n    <tr>\n      <th>8744231</th>\n      <td>2000.0</td>\n      <td>2014-05-02</td>\n      <td>debt_consolidation</td>\n      <td>21.84</td>\n      <td>AK</td>\n      <td>&lt; 1 year</td>\n      <td>0.0</td>\n      <td>0</td>\n      <td>2014</td>\n      <td>5</td>\n    </tr>\n    <tr>\n      <th>...</th>\n      <td>...</td>\n      <td>...</td>\n      <td>...</td>\n      <td>...</td>\n      <td>...</td>\n      <td>...</td>\n      <td>...</td>\n      <td>...</td>\n      <td>...</td>\n      <td>...</td>\n    </tr>\n    <tr>\n      <th>11021735</th>\n      <td>25000.0</td>\n      <td>2018-02-08</td>\n      <td>Debt consolidation</td>\n      <td>15.86</td>\n      <td>AK</td>\n      <td>2 years</td>\n      <td>0.0</td>\n      <td>0</td>\n      <td>2018</td>\n      <td>5</td>\n    </tr>\n    <tr>\n      <th>8156784</th>\n      <td>23000.0</td>\n      <td>2018-09-26</td>\n      <td>Debt consolidation</td>\n      <td>23.00</td>\n      <td>AK</td>\n      <td>&lt; 1 year</td>\n      <td>0.0</td>\n      <td>0</td>\n      <td>2018</td>\n      <td>5</td>\n    </tr>\n    <tr>\n      <th>11067661</th>\n      <td>5000.0</td>\n      <td>2018-02-12</td>\n      <td>Car financing</td>\n      <td>15.97</td>\n      <td>AK</td>\n      <td>&lt; 1 year</td>\n      <td>0.0</td>\n      <td>0</td>\n      <td>2018</td>\n      <td>5</td>\n    </tr>\n    <tr>\n      <th>5517298</th>\n      <td>5000.0</td>\n      <td>2017-03-21</td>\n      <td>debt_consolidation</td>\n      <td>6.27</td>\n      <td>AK</td>\n      <td>&lt; 1 year</td>\n      <td>0.0</td>\n      <td>0</td>\n      <td>2017</td>\n      <td>5</td>\n    </tr>\n    <tr>\n      <th>3769599</th>\n      <td>8000.0</td>\n      <td>2016-08-24</td>\n      <td>debt_consolidation</td>\n      <td>0.25</td>\n      <td>AK</td>\n      <td>&lt; 1 year</td>\n      <td>0.0</td>\n      <td>0</td>\n      <td>2016</td>\n      <td>5</td>\n    </tr>\n  </tbody>\n</table>\n<p>10000 rows × 10 columns</p>\n</div>"
     },
     "execution_count": 120,
     "metadata": {},
     "output_type": "execute_result"
    }
   ],
   "source": [
    "lc_all.head(10000)"
   ],
   "metadata": {
    "collapsed": false,
    "pycharm": {
     "name": "#%%\n"
    }
   }
  },
  {
   "cell_type": "code",
   "execution_count": 120,
   "outputs": [],
   "source": [],
   "metadata": {
    "collapsed": false,
    "pycharm": {
     "name": "#%%\n"
    }
   }
  }
 ],
 "metadata": {
  "kernelspec": {
   "display_name": "Python 3 (ipykernel)",
   "language": "python",
   "name": "python3"
  },
  "language_info": {
   "codemirror_mode": {
    "name": "ipython",
    "version": 3
   },
   "file_extension": ".py",
   "mimetype": "text/x-python",
   "name": "python",
   "nbconvert_exporter": "python",
   "pygments_lexer": "ipython3",
   "version": "3.9.12"
  }
 },
 "nbformat": 4,
 "nbformat_minor": 1
}