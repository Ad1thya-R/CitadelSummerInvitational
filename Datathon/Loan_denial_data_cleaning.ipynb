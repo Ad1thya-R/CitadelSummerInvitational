{
 "cells": [
  {
   "cell_type": "markdown",
   "source": [
    "# Loan Denial data cleaning"
   ],
   "metadata": {
    "collapsed": false,
    "pycharm": {
     "name": "#%% md\n"
    }
   }
  },
  {
   "cell_type": "code",
   "execution_count": 614,
   "outputs": [],
   "source": [
    "import pandas as pd\n",
    "import numpy as np\n",
    "import matplotlib.pyplot as plt\n",
    "import seaborn as sns"
   ],
   "metadata": {
    "collapsed": false,
    "pycharm": {
     "name": "#%%\n"
    }
   }
  },
  {
   "cell_type": "code",
   "execution_count": 615,
   "outputs": [
    {
     "name": "stderr",
     "output_type": "stream",
     "text": [
      "/var/folders/d3/ry6v0r7j28d4wdqwrz_hvdqc0000gn/T/ipykernel_1110/1814094668.py:1: DtypeWarning: Columns (19,59,118,129,130,131,134,135,136,139,145,146,147) have mixed types. Specify dtype option on import or set low_memory=False.\n",
      "  lc_accepted=pd.read_csv('LC_Data/Lending_Club_Accepted_2014_2018.csv')\n"
     ]
    },
    {
     "data": {
      "text/plain": "   loan_amnt   issue_d             purpose    dti addr_state emp_length  \\\n0     3600.0  Dec-2015  debt_consolidation   5.91         PA  10+ years   \n1    24700.0  Dec-2015      small_business  16.06         SD  10+ years   \n2    20000.0  Dec-2015    home_improvement  10.78         IL  10+ years   \n3    35000.0  Dec-2015  debt_consolidation  17.06         NJ  10+ years   \n4    10400.0  Dec-2015      major_purchase  25.37         PA    3 years   \n\n   policy_code  \n0          1.0  \n1          1.0  \n2          1.0  \n3          1.0  \n4          1.0  ",
      "text/html": "<div>\n<style scoped>\n    .dataframe tbody tr th:only-of-type {\n        vertical-align: middle;\n    }\n\n    .dataframe tbody tr th {\n        vertical-align: top;\n    }\n\n    .dataframe thead th {\n        text-align: right;\n    }\n</style>\n<table border=\"1\" class=\"dataframe\">\n  <thead>\n    <tr style=\"text-align: right;\">\n      <th></th>\n      <th>loan_amnt</th>\n      <th>issue_d</th>\n      <th>purpose</th>\n      <th>dti</th>\n      <th>addr_state</th>\n      <th>emp_length</th>\n      <th>policy_code</th>\n    </tr>\n  </thead>\n  <tbody>\n    <tr>\n      <th>0</th>\n      <td>3600.0</td>\n      <td>Dec-2015</td>\n      <td>debt_consolidation</td>\n      <td>5.91</td>\n      <td>PA</td>\n      <td>10+ years</td>\n      <td>1.0</td>\n    </tr>\n    <tr>\n      <th>1</th>\n      <td>24700.0</td>\n      <td>Dec-2015</td>\n      <td>small_business</td>\n      <td>16.06</td>\n      <td>SD</td>\n      <td>10+ years</td>\n      <td>1.0</td>\n    </tr>\n    <tr>\n      <th>2</th>\n      <td>20000.0</td>\n      <td>Dec-2015</td>\n      <td>home_improvement</td>\n      <td>10.78</td>\n      <td>IL</td>\n      <td>10+ years</td>\n      <td>1.0</td>\n    </tr>\n    <tr>\n      <th>3</th>\n      <td>35000.0</td>\n      <td>Dec-2015</td>\n      <td>debt_consolidation</td>\n      <td>17.06</td>\n      <td>NJ</td>\n      <td>10+ years</td>\n      <td>1.0</td>\n    </tr>\n    <tr>\n      <th>4</th>\n      <td>10400.0</td>\n      <td>Dec-2015</td>\n      <td>major_purchase</td>\n      <td>25.37</td>\n      <td>PA</td>\n      <td>3 years</td>\n      <td>1.0</td>\n    </tr>\n  </tbody>\n</table>\n</div>"
     },
     "execution_count": 615,
     "metadata": {},
     "output_type": "execute_result"
    }
   ],
   "source": [
    "lc_accepted=pd.read_csv('LC_Data/Lending_Club_Accepted_2014_2018.csv')\n",
    "lc_rejected=pd.read_csv('LC_Data/Lending_Club_Rejected_2014_2018.csv')\n",
    "lc_common=[ 'loan_amnt', 'issue_d', 'purpose', 'dti', 'addr_state', 'emp_length', 'policy_code']\n",
    "lc_accepted=lc_accepted[lc_common]\n",
    "lc_accepted.head()"
   ],
   "metadata": {
    "collapsed": false,
    "pycharm": {
     "name": "#%%\n"
    }
   }
  },
  {
   "cell_type": "code",
   "execution_count": 616,
   "outputs": [
    {
     "name": "stdout",
     "output_type": "stream",
     "text": [
      "0            2.69%\n",
      "1           28.26%\n",
      "2              -1%\n",
      "3           21.43%\n",
      "4            8.49%\n",
      "             ...  \n",
      "26132303    41.26%\n",
      "26132304     1.48%\n",
      "26132305    10.26%\n",
      "26132306    17.71%\n",
      "26132307    10.58%\n",
      "Name: Debt_to_Income_Ratio, Length: 26132308, dtype: object\n"
     ]
    }
   ],
   "source": [
    "lc_rejected.drop(['Zip_Code', 'Risk_Score'], axis=1, inplace=True)\n",
    "lc_rejected.head()\n",
    "print(lc_rejected['Debt_to_Income_Ratio'])"
   ],
   "metadata": {
    "collapsed": false,
    "pycharm": {
     "name": "#%%\n"
    }
   }
  },
  {
   "cell_type": "code",
   "execution_count": 617,
   "outputs": [
    {
     "data": {
      "text/plain": "   Amount_Requested Application_Date          Loan_Title  \\\n0            3600.0         Dec-2015  debt_consolidation   \n1           24700.0         Dec-2015      small_business   \n2           20000.0         Dec-2015    home_improvement   \n3           35000.0         Dec-2015  debt_consolidation   \n4           10400.0         Dec-2015      major_purchase   \n\n   Debt_to_Income_Ratio State Employment_Length  Policy_Code  \n0                  5.91    PA         10+ years          1.0  \n1                 16.06    SD         10+ years          1.0  \n2                 10.78    IL         10+ years          1.0  \n3                 17.06    NJ         10+ years          1.0  \n4                 25.37    PA           3 years          1.0  ",
      "text/html": "<div>\n<style scoped>\n    .dataframe tbody tr th:only-of-type {\n        vertical-align: middle;\n    }\n\n    .dataframe tbody tr th {\n        vertical-align: top;\n    }\n\n    .dataframe thead th {\n        text-align: right;\n    }\n</style>\n<table border=\"1\" class=\"dataframe\">\n  <thead>\n    <tr style=\"text-align: right;\">\n      <th></th>\n      <th>Amount_Requested</th>\n      <th>Application_Date</th>\n      <th>Loan_Title</th>\n      <th>Debt_to_Income_Ratio</th>\n      <th>State</th>\n      <th>Employment_Length</th>\n      <th>Policy_Code</th>\n    </tr>\n  </thead>\n  <tbody>\n    <tr>\n      <th>0</th>\n      <td>3600.0</td>\n      <td>Dec-2015</td>\n      <td>debt_consolidation</td>\n      <td>5.91</td>\n      <td>PA</td>\n      <td>10+ years</td>\n      <td>1.0</td>\n    </tr>\n    <tr>\n      <th>1</th>\n      <td>24700.0</td>\n      <td>Dec-2015</td>\n      <td>small_business</td>\n      <td>16.06</td>\n      <td>SD</td>\n      <td>10+ years</td>\n      <td>1.0</td>\n    </tr>\n    <tr>\n      <th>2</th>\n      <td>20000.0</td>\n      <td>Dec-2015</td>\n      <td>home_improvement</td>\n      <td>10.78</td>\n      <td>IL</td>\n      <td>10+ years</td>\n      <td>1.0</td>\n    </tr>\n    <tr>\n      <th>3</th>\n      <td>35000.0</td>\n      <td>Dec-2015</td>\n      <td>debt_consolidation</td>\n      <td>17.06</td>\n      <td>NJ</td>\n      <td>10+ years</td>\n      <td>1.0</td>\n    </tr>\n    <tr>\n      <th>4</th>\n      <td>10400.0</td>\n      <td>Dec-2015</td>\n      <td>major_purchase</td>\n      <td>25.37</td>\n      <td>PA</td>\n      <td>3 years</td>\n      <td>1.0</td>\n    </tr>\n  </tbody>\n</table>\n</div>"
     },
     "execution_count": 617,
     "metadata": {},
     "output_type": "execute_result"
    }
   ],
   "source": [
    "rename_dict={'addr_state':'State', 'loan_amnt':'Amount_Requested', 'issue_d':'Application_Date', 'purpose':'Loan_Title', 'dti':'Debt_to_Income_Ratio', 'emp_length':'Employment_Length', 'policy_code':'Policy_Code'}\n",
    "lc_accepted.rename(columns=rename_dict, inplace=True)\n",
    "lc_accepted.head()"
   ],
   "metadata": {
    "collapsed": false,
    "pycharm": {
     "name": "#%%\n"
    }
   }
  },
  {
   "cell_type": "code",
   "execution_count": 618,
   "outputs": [
    {
     "name": "stdout",
     "output_type": "stream",
     "text": [
      "<class 'pandas.core.frame.DataFrame'>\n",
      "RangeIndex: 2029952 entries, 0 to 2029951\n",
      "Data columns (total 8 columns):\n",
      " #   Column                Dtype  \n",
      "---  ------                -----  \n",
      " 0   Amount_Requested      float64\n",
      " 1   Application_Date      object \n",
      " 2   Loan_Title            object \n",
      " 3   Debt_to_Income_Ratio  float64\n",
      " 4   State                 object \n",
      " 5   Employment_Length     object \n",
      " 6   Policy_Code           float64\n",
      " 7   Accepted              int64  \n",
      "dtypes: float64(3), int64(1), object(4)\n",
      "memory usage: 123.9+ MB\n"
     ]
    }
   ],
   "source": [
    "#create column to indicate loans were accepted or rejected\n",
    "lc_accepted['Accepted']=1\n",
    "lc_accepted.info()"
   ],
   "metadata": {
    "collapsed": false,
    "pycharm": {
     "name": "#%%\n"
    }
   }
  },
  {
   "cell_type": "code",
   "execution_count": 619,
   "outputs": [
    {
     "name": "stdout",
     "output_type": "stream",
     "text": [
      "<class 'pandas.core.frame.DataFrame'>\n",
      "RangeIndex: 26132308 entries, 0 to 26132307\n",
      "Data columns (total 8 columns):\n",
      " #   Column                Dtype  \n",
      "---  ------                -----  \n",
      " 0   Amount_Requested      float64\n",
      " 1   Application_Date      object \n",
      " 2   Loan_Title            object \n",
      " 3   Debt_to_Income_Ratio  object \n",
      " 4   State                 object \n",
      " 5   Employment_Length     object \n",
      " 6   Policy_Code           float64\n",
      " 7   Accepted              int64  \n",
      "dtypes: float64(2), int64(1), object(5)\n",
      "memory usage: 1.6+ GB\n"
     ]
    }
   ],
   "source": [
    "lc_rejected['Accepted']=0\n",
    "lc_rejected.info()"
   ],
   "metadata": {
    "collapsed": false,
    "pycharm": {
     "name": "#%%\n"
    }
   }
  },
  {
   "cell_type": "code",
   "execution_count": 620,
   "outputs": [
    {
     "name": "stdout",
     "output_type": "stream",
     "text": [
      "<class 'pandas.core.frame.DataFrame'>\n",
      "RangeIndex: 26132308 entries, 0 to 26132307\n",
      "Data columns (total 8 columns):\n",
      " #   Column                Dtype  \n",
      "---  ------                -----  \n",
      " 0   Amount_Requested      float64\n",
      " 1   Application_Date      object \n",
      " 2   Loan_Title            object \n",
      " 3   Debt_to_Income_Ratio  float64\n",
      " 4   State                 object \n",
      " 5   Employment_Length     object \n",
      " 6   Policy_Code           float64\n",
      " 7   Accepted              int64  \n",
      "dtypes: float64(3), int64(1), object(4)\n",
      "memory usage: 1.6+ GB\n"
     ]
    }
   ],
   "source": [
    "#convert Debt_to_Income_Ratio to numeric in lc_rejected\n",
    "lc_rejected['Debt_to_Income_Ratio']=pd.to_numeric(lc_rejected['Debt_to_Income_Ratio'].str.strip('%'))\n",
    "lc_rejected.info()"
   ],
   "metadata": {
    "collapsed": false,
    "pycharm": {
     "name": "#%%\n"
    }
   }
  },
  {
   "cell_type": "code",
   "execution_count": 621,
   "outputs": [],
   "source": [
    "#rename values in Loan_Title column to be same for lc_accepted and lc_rejected\n",
    "loan_map={'Debt consolidation': 'debt_consolidation', 'Home improvement':'home_improvement', 'Home buying':'house', 'Other':'other', 'Credit card refinancing':'credit_card', 'Major purchase':'major_purchase', 'Business Loan':'small_business', 'Business':'small_business', 'Vacation':'vacation', 'Car financing':'car', 'Moving and relocation':'moving', 'Medical expenses':'medical', 'Green loan':'small_business'}\n",
    "lc_rejected['Loan_Title']=lc_rejected['Loan_Title'].replace(loan_map)"
   ],
   "metadata": {
    "collapsed": false,
    "pycharm": {
     "name": "#%%\n"
    }
   }
  },
  {
   "cell_type": "code",
   "execution_count": 622,
   "outputs": [
    {
     "name": "stderr",
     "output_type": "stream",
     "text": [
      "/var/folders/d3/ry6v0r7j28d4wdqwrz_hvdqc0000gn/T/ipykernel_1110/2391448617.py:2: FutureWarning: The frame.append method is deprecated and will be removed from pandas in a future version. Use pandas.concat instead.\n",
      "  lc_all=lc_accepted.append(lc_rejected, ignore_index=True)\n"
     ]
    },
    {
     "name": "stdout",
     "output_type": "stream",
     "text": [
      "<class 'pandas.core.frame.DataFrame'>\n",
      "Int64Index: 28158341 entries, 0 to 28162259\n",
      "Data columns (total 8 columns):\n",
      " #   Column                Dtype  \n",
      "---  ------                -----  \n",
      " 0   Amount_Requested      float64\n",
      " 1   Application_Date      object \n",
      " 2   Loan_Title            object \n",
      " 3   Debt_to_Income_Ratio  float64\n",
      " 4   State                 object \n",
      " 5   Employment_Length     object \n",
      " 6   Policy_Code           float64\n",
      " 7   Accepted              int64  \n",
      "dtypes: float64(3), int64(1), object(4)\n",
      "memory usage: 1.9+ GB\n"
     ]
    }
   ],
   "source": [
    "#append lc_accepted and lc_rejected to create a single dataframe\n",
    "lc_all=lc_accepted.append(lc_rejected, ignore_index=True)\n",
    "lc_all['Employment_Length'].fillna(0, inplace=True)\n",
    "lc_all.dropna(inplace=True)\n",
    "lc_all.info()"
   ],
   "metadata": {
    "collapsed": false,
    "pycharm": {
     "name": "#%%\n"
    }
   }
  },
  {
   "cell_type": "code",
   "execution_count": 623,
   "outputs": [
    {
     "data": {
      "text/plain": "   Amount_Requested Application_Date          Loan_Title  \\\n0            3600.0         Dec-2015  debt_consolidation   \n1           24700.0         Dec-2015      small_business   \n2           20000.0         Dec-2015    home_improvement   \n3           35000.0         Dec-2015  debt_consolidation   \n4           10400.0         Dec-2015      major_purchase   \n\n   Debt_to_Income_Ratio State Employment_Length  Policy_Code  Accepted  \n0                  5.91    PA         10+ years          1.0         1  \n1                 16.06    SD         10+ years          1.0         1  \n2                 10.78    IL         10+ years          1.0         1  \n3                 17.06    NJ         10+ years          1.0         1  \n4                 25.37    PA           3 years          1.0         1  ",
      "text/html": "<div>\n<style scoped>\n    .dataframe tbody tr th:only-of-type {\n        vertical-align: middle;\n    }\n\n    .dataframe tbody tr th {\n        vertical-align: top;\n    }\n\n    .dataframe thead th {\n        text-align: right;\n    }\n</style>\n<table border=\"1\" class=\"dataframe\">\n  <thead>\n    <tr style=\"text-align: right;\">\n      <th></th>\n      <th>Amount_Requested</th>\n      <th>Application_Date</th>\n      <th>Loan_Title</th>\n      <th>Debt_to_Income_Ratio</th>\n      <th>State</th>\n      <th>Employment_Length</th>\n      <th>Policy_Code</th>\n      <th>Accepted</th>\n    </tr>\n  </thead>\n  <tbody>\n    <tr>\n      <th>0</th>\n      <td>3600.0</td>\n      <td>Dec-2015</td>\n      <td>debt_consolidation</td>\n      <td>5.91</td>\n      <td>PA</td>\n      <td>10+ years</td>\n      <td>1.0</td>\n      <td>1</td>\n    </tr>\n    <tr>\n      <th>1</th>\n      <td>24700.0</td>\n      <td>Dec-2015</td>\n      <td>small_business</td>\n      <td>16.06</td>\n      <td>SD</td>\n      <td>10+ years</td>\n      <td>1.0</td>\n      <td>1</td>\n    </tr>\n    <tr>\n      <th>2</th>\n      <td>20000.0</td>\n      <td>Dec-2015</td>\n      <td>home_improvement</td>\n      <td>10.78</td>\n      <td>IL</td>\n      <td>10+ years</td>\n      <td>1.0</td>\n      <td>1</td>\n    </tr>\n    <tr>\n      <th>3</th>\n      <td>35000.0</td>\n      <td>Dec-2015</td>\n      <td>debt_consolidation</td>\n      <td>17.06</td>\n      <td>NJ</td>\n      <td>10+ years</td>\n      <td>1.0</td>\n      <td>1</td>\n    </tr>\n    <tr>\n      <th>4</th>\n      <td>10400.0</td>\n      <td>Dec-2015</td>\n      <td>major_purchase</td>\n      <td>25.37</td>\n      <td>PA</td>\n      <td>3 years</td>\n      <td>1.0</td>\n      <td>1</td>\n    </tr>\n  </tbody>\n</table>\n</div>"
     },
     "execution_count": 623,
     "metadata": {},
     "output_type": "execute_result"
    }
   ],
   "source": [
    "lc_all.head()"
   ],
   "metadata": {
    "collapsed": false,
    "pycharm": {
     "name": "#%%\n"
    }
   }
  },
  {
   "cell_type": "code",
   "execution_count": 624,
   "outputs": [
    {
     "name": "stdout",
     "output_type": "stream",
     "text": [
      "debt_consolidation    12889660\n",
      "other                  4603983\n",
      "credit_card            3979156\n",
      "home_improvement       1247525\n",
      "car                    1243447\n",
      "major_purchase          937487\n",
      "small_business          836718\n",
      "medical                 736544\n",
      "moving                  677696\n",
      "house                   668817\n",
      "vacation                305394\n",
      "renewable_energy         27969\n",
      "Name: Loan_Title, dtype: int64\n"
     ]
    }
   ],
   "source": [
    "lc_all= lc_all[lc_all.groupby('Loan_Title').Loan_Title.transform('count')>10000].copy()\n",
    "print(lc_all['Loan_Title'].value_counts())"
   ],
   "metadata": {
    "collapsed": false,
    "pycharm": {
     "name": "#%%\n"
    }
   }
  },
  {
   "cell_type": "code",
   "execution_count": 625,
   "outputs": [
    {
     "data": {
      "text/plain": "          Amount_Requested Application_Date      Loan_Title  \\\n8225641             8000.0       2018-09-29             car   \n19034336           20500.0       2018-05-17     credit_card   \n19034348            2000.0       2018-05-17           other   \n21303110           10000.0       2017-11-16          moving   \n10103547            1000.0       2014-12-15          moving   \n...                    ...              ...             ...   \n27739231            5000.0       2016-12-04           house   \n14214739            5000.0       2016-01-13             car   \n28081210            5000.0       2016-12-26           other   \n11982661          100000.0       2018-03-27  small_business   \n816315             11000.0         Aug-2018        vacation   \n\n          Debt_to_Income_Ratio State Employment_Length  Policy_Code  Accepted  \n8225641                   2.50    AK          < 1 year          0.0         0  \n19034336                 72.48    AK          < 1 year          0.0         0  \n19034348                  1.58    AK          < 1 year          0.0         0  \n21303110                  4.58    AK          < 1 year          0.0         0  \n10103547                 23.56    AK          < 1 year          0.0         0  \n...                        ...   ...               ...          ...       ...  \n27739231                  6.79    AK           5 years          0.0         0  \n14214739                 24.40    AK          < 1 year          0.0         0  \n28081210                 35.95    AK           5 years          0.0         0  \n11982661                 -1.00    AK          < 1 year          0.0         0  \n816315                   67.52    AK           4 years          1.0         1  \n\n[1000 rows x 8 columns]",
      "text/html": "<div>\n<style scoped>\n    .dataframe tbody tr th:only-of-type {\n        vertical-align: middle;\n    }\n\n    .dataframe tbody tr th {\n        vertical-align: top;\n    }\n\n    .dataframe thead th {\n        text-align: right;\n    }\n</style>\n<table border=\"1\" class=\"dataframe\">\n  <thead>\n    <tr style=\"text-align: right;\">\n      <th></th>\n      <th>Amount_Requested</th>\n      <th>Application_Date</th>\n      <th>Loan_Title</th>\n      <th>Debt_to_Income_Ratio</th>\n      <th>State</th>\n      <th>Employment_Length</th>\n      <th>Policy_Code</th>\n      <th>Accepted</th>\n    </tr>\n  </thead>\n  <tbody>\n    <tr>\n      <th>8225641</th>\n      <td>8000.0</td>\n      <td>2018-09-29</td>\n      <td>car</td>\n      <td>2.50</td>\n      <td>AK</td>\n      <td>&lt; 1 year</td>\n      <td>0.0</td>\n      <td>0</td>\n    </tr>\n    <tr>\n      <th>19034336</th>\n      <td>20500.0</td>\n      <td>2018-05-17</td>\n      <td>credit_card</td>\n      <td>72.48</td>\n      <td>AK</td>\n      <td>&lt; 1 year</td>\n      <td>0.0</td>\n      <td>0</td>\n    </tr>\n    <tr>\n      <th>19034348</th>\n      <td>2000.0</td>\n      <td>2018-05-17</td>\n      <td>other</td>\n      <td>1.58</td>\n      <td>AK</td>\n      <td>&lt; 1 year</td>\n      <td>0.0</td>\n      <td>0</td>\n    </tr>\n    <tr>\n      <th>21303110</th>\n      <td>10000.0</td>\n      <td>2017-11-16</td>\n      <td>moving</td>\n      <td>4.58</td>\n      <td>AK</td>\n      <td>&lt; 1 year</td>\n      <td>0.0</td>\n      <td>0</td>\n    </tr>\n    <tr>\n      <th>10103547</th>\n      <td>1000.0</td>\n      <td>2014-12-15</td>\n      <td>moving</td>\n      <td>23.56</td>\n      <td>AK</td>\n      <td>&lt; 1 year</td>\n      <td>0.0</td>\n      <td>0</td>\n    </tr>\n    <tr>\n      <th>...</th>\n      <td>...</td>\n      <td>...</td>\n      <td>...</td>\n      <td>...</td>\n      <td>...</td>\n      <td>...</td>\n      <td>...</td>\n      <td>...</td>\n    </tr>\n    <tr>\n      <th>27739231</th>\n      <td>5000.0</td>\n      <td>2016-12-04</td>\n      <td>house</td>\n      <td>6.79</td>\n      <td>AK</td>\n      <td>5 years</td>\n      <td>0.0</td>\n      <td>0</td>\n    </tr>\n    <tr>\n      <th>14214739</th>\n      <td>5000.0</td>\n      <td>2016-01-13</td>\n      <td>car</td>\n      <td>24.40</td>\n      <td>AK</td>\n      <td>&lt; 1 year</td>\n      <td>0.0</td>\n      <td>0</td>\n    </tr>\n    <tr>\n      <th>28081210</th>\n      <td>5000.0</td>\n      <td>2016-12-26</td>\n      <td>other</td>\n      <td>35.95</td>\n      <td>AK</td>\n      <td>5 years</td>\n      <td>0.0</td>\n      <td>0</td>\n    </tr>\n    <tr>\n      <th>11982661</th>\n      <td>100000.0</td>\n      <td>2018-03-27</td>\n      <td>small_business</td>\n      <td>-1.00</td>\n      <td>AK</td>\n      <td>&lt; 1 year</td>\n      <td>0.0</td>\n      <td>0</td>\n    </tr>\n    <tr>\n      <th>816315</th>\n      <td>11000.0</td>\n      <td>Aug-2018</td>\n      <td>vacation</td>\n      <td>67.52</td>\n      <td>AK</td>\n      <td>4 years</td>\n      <td>1.0</td>\n      <td>1</td>\n    </tr>\n  </tbody>\n</table>\n<p>1000 rows × 8 columns</p>\n</div>"
     },
     "execution_count": 625,
     "metadata": {},
     "output_type": "execute_result"
    }
   ],
   "source": [
    "#sort lc_all by state\n",
    "lc_all.sort_values(by='State', inplace=True)\n",
    "lc_all.head(1000)"
   ],
   "metadata": {
    "collapsed": false,
    "pycharm": {
     "name": "#%%\n"
    }
   }
  },
  {
   "cell_type": "markdown",
   "source": [
    "## Add the categorization of the states to the dataframe"
   ],
   "metadata": {
    "collapsed": false,
    "pycharm": {
     "name": "#%% md\n"
    }
   }
  },
  {
   "cell_type": "code",
   "execution_count": 626,
   "outputs": [
    {
     "data": {
      "text/plain": "       2014_gdp  2015_gdp  2016_gdp  2017_gdp  2018_gdp  2014_unemp  \\\nState                                                                 \nAL     0.072278  0.069670  0.068742  0.066898  0.065489   -0.788462   \nAK     0.011349  0.011004  0.010356  0.009803  0.009041   -0.807692   \nAZ     0.111370  0.108858  0.109180  0.108649  0.108648   -0.788462   \nAR     0.037188  0.035747  0.034768  0.033589  0.033023   -0.634615   \nCA     1.000000  1.000000  1.000000  1.000000  1.000000   -0.923077   \n\n       2015_unemp  2016_unemp  2017_unemp  2018_unemp  ...  2014_rank  \\\nState                                                  ...              \nAL      -0.804878      -0.725   -0.434783   -0.357143  ...       41.0   \nAK      -0.902439      -1.000   -1.000000   -1.000000  ...       51.0   \nAZ      -0.804878      -0.625   -0.543478   -0.571429  ...       48.0   \nAR      -0.536585      -0.275   -0.282609   -0.309524  ...       39.0   \nCA      -0.829268      -0.650   -0.521739   -0.428571  ...        5.0   \n\n       2015_rank  2016_rank  2017_rank  2018_rank  2014  2015  2016  2017  \\\nState                                                                       \nAL          43.0       44.0       42.0       44.0     3     3     3     3   \nAK          51.0       51.0       51.0       51.0     3     3     3     3   \nAZ          46.0       46.0       48.0       48.0     3     3     3     3   \nAR          36.0       28.0       31.0       36.0     3     3     2     2   \nCA           2.0        2.0        1.0        1.0     1     1     1     1   \n\n       2018  \nState        \nAL        3  \nAK        3  \nAZ        3  \nAR        3  \nCA        1  \n\n[5 rows x 40 columns]",
      "text/html": "<div>\n<style scoped>\n    .dataframe tbody tr th:only-of-type {\n        vertical-align: middle;\n    }\n\n    .dataframe tbody tr th {\n        vertical-align: top;\n    }\n\n    .dataframe thead th {\n        text-align: right;\n    }\n</style>\n<table border=\"1\" class=\"dataframe\">\n  <thead>\n    <tr style=\"text-align: right;\">\n      <th></th>\n      <th>2014_gdp</th>\n      <th>2015_gdp</th>\n      <th>2016_gdp</th>\n      <th>2017_gdp</th>\n      <th>2018_gdp</th>\n      <th>2014_unemp</th>\n      <th>2015_unemp</th>\n      <th>2016_unemp</th>\n      <th>2017_unemp</th>\n      <th>2018_unemp</th>\n      <th>...</th>\n      <th>2014_rank</th>\n      <th>2015_rank</th>\n      <th>2016_rank</th>\n      <th>2017_rank</th>\n      <th>2018_rank</th>\n      <th>2014</th>\n      <th>2015</th>\n      <th>2016</th>\n      <th>2017</th>\n      <th>2018</th>\n    </tr>\n    <tr>\n      <th>State</th>\n      <th></th>\n      <th></th>\n      <th></th>\n      <th></th>\n      <th></th>\n      <th></th>\n      <th></th>\n      <th></th>\n      <th></th>\n      <th></th>\n      <th></th>\n      <th></th>\n      <th></th>\n      <th></th>\n      <th></th>\n      <th></th>\n      <th></th>\n      <th></th>\n      <th></th>\n      <th></th>\n      <th></th>\n    </tr>\n  </thead>\n  <tbody>\n    <tr>\n      <th>AL</th>\n      <td>0.072278</td>\n      <td>0.069670</td>\n      <td>0.068742</td>\n      <td>0.066898</td>\n      <td>0.065489</td>\n      <td>-0.788462</td>\n      <td>-0.804878</td>\n      <td>-0.725</td>\n      <td>-0.434783</td>\n      <td>-0.357143</td>\n      <td>...</td>\n      <td>41.0</td>\n      <td>43.0</td>\n      <td>44.0</td>\n      <td>42.0</td>\n      <td>44.0</td>\n      <td>3</td>\n      <td>3</td>\n      <td>3</td>\n      <td>3</td>\n      <td>3</td>\n    </tr>\n    <tr>\n      <th>AK</th>\n      <td>0.011349</td>\n      <td>0.011004</td>\n      <td>0.010356</td>\n      <td>0.009803</td>\n      <td>0.009041</td>\n      <td>-0.807692</td>\n      <td>-0.902439</td>\n      <td>-1.000</td>\n      <td>-1.000000</td>\n      <td>-1.000000</td>\n      <td>...</td>\n      <td>51.0</td>\n      <td>51.0</td>\n      <td>51.0</td>\n      <td>51.0</td>\n      <td>51.0</td>\n      <td>3</td>\n      <td>3</td>\n      <td>3</td>\n      <td>3</td>\n      <td>3</td>\n    </tr>\n    <tr>\n      <th>AZ</th>\n      <td>0.111370</td>\n      <td>0.108858</td>\n      <td>0.109180</td>\n      <td>0.108649</td>\n      <td>0.108648</td>\n      <td>-0.788462</td>\n      <td>-0.804878</td>\n      <td>-0.625</td>\n      <td>-0.543478</td>\n      <td>-0.571429</td>\n      <td>...</td>\n      <td>48.0</td>\n      <td>46.0</td>\n      <td>46.0</td>\n      <td>48.0</td>\n      <td>48.0</td>\n      <td>3</td>\n      <td>3</td>\n      <td>3</td>\n      <td>3</td>\n      <td>3</td>\n    </tr>\n    <tr>\n      <th>AR</th>\n      <td>0.037188</td>\n      <td>0.035747</td>\n      <td>0.034768</td>\n      <td>0.033589</td>\n      <td>0.033023</td>\n      <td>-0.634615</td>\n      <td>-0.536585</td>\n      <td>-0.275</td>\n      <td>-0.282609</td>\n      <td>-0.309524</td>\n      <td>...</td>\n      <td>39.0</td>\n      <td>36.0</td>\n      <td>28.0</td>\n      <td>31.0</td>\n      <td>36.0</td>\n      <td>3</td>\n      <td>3</td>\n      <td>2</td>\n      <td>2</td>\n      <td>3</td>\n    </tr>\n    <tr>\n      <th>CA</th>\n      <td>1.000000</td>\n      <td>1.000000</td>\n      <td>1.000000</td>\n      <td>1.000000</td>\n      <td>1.000000</td>\n      <td>-0.923077</td>\n      <td>-0.829268</td>\n      <td>-0.650</td>\n      <td>-0.521739</td>\n      <td>-0.428571</td>\n      <td>...</td>\n      <td>5.0</td>\n      <td>2.0</td>\n      <td>2.0</td>\n      <td>1.0</td>\n      <td>1.0</td>\n      <td>1</td>\n      <td>1</td>\n      <td>1</td>\n      <td>1</td>\n      <td>1</td>\n    </tr>\n  </tbody>\n</table>\n<p>5 rows × 40 columns</p>\n</div>"
     },
     "execution_count": 626,
     "metadata": {},
     "output_type": "execute_result"
    }
   ],
   "source": [
    "#import the state categories from the csv file\n",
    "devscaled=pd.read_csv('devscaled.csv')\n",
    "devscaled.set_index('State', inplace=True)\n",
    "devscaled.head()"
   ],
   "metadata": {
    "collapsed": false,
    "pycharm": {
     "name": "#%%\n"
    }
   }
  },
  {
   "cell_type": "code",
   "execution_count": 627,
   "outputs": [
    {
     "name": "stdout",
     "output_type": "stream",
     "text": [
      "<class 'pandas.core.frame.DataFrame'>\n",
      "Index: 51 entries, AL to WY\n",
      "Data columns (total 40 columns):\n",
      " #   Column       Non-Null Count  Dtype  \n",
      "---  ------       --------------  -----  \n",
      " 0   2014_gdp     51 non-null     float64\n",
      " 1   2015_gdp     51 non-null     float64\n",
      " 2   2016_gdp     51 non-null     float64\n",
      " 3   2017_gdp     51 non-null     float64\n",
      " 4   2018_gdp     51 non-null     float64\n",
      " 5   2014_unemp   51 non-null     float64\n",
      " 6   2015_unemp   51 non-null     float64\n",
      " 7   2016_unemp   51 non-null     float64\n",
      " 8   2017_unemp   51 non-null     float64\n",
      " 9   2018_unemp   51 non-null     float64\n",
      " 10  2018_health  51 non-null     float64\n",
      " 11  2017_health  51 non-null     float64\n",
      " 12  2016_health  51 non-null     float64\n",
      " 13  2015_health  51 non-null     float64\n",
      " 14  2014_health  51 non-null     float64\n",
      " 15  2018_edu     51 non-null     float64\n",
      " 16  2017_edu     51 non-null     float64\n",
      " 17  2016_edu     51 non-null     float64\n",
      " 18  2015_edu     51 non-null     float64\n",
      " 19  2014_edu     51 non-null     float64\n",
      " 20  2018_crime   51 non-null     float64\n",
      " 21  2017_crime   51 non-null     float64\n",
      " 22  2016_crime   51 non-null     float64\n",
      " 23  2015_crime   51 non-null     float64\n",
      " 24  2014_crime   51 non-null     float64\n",
      " 25  2014_total   51 non-null     float64\n",
      " 26  2015_total   51 non-null     float64\n",
      " 27  2016_total   51 non-null     float64\n",
      " 28  2017_total   51 non-null     float64\n",
      " 29  2018_total   51 non-null     float64\n",
      " 30  2014_rank    51 non-null     float64\n",
      " 31  2015_rank    51 non-null     float64\n",
      " 32  2016_rank    51 non-null     float64\n",
      " 33  2017_rank    51 non-null     float64\n",
      " 34  2018_rank    51 non-null     float64\n",
      " 35  2014         51 non-null     int64  \n",
      " 36  2015         51 non-null     int64  \n",
      " 37  2016         51 non-null     int64  \n",
      " 38  2017         51 non-null     int64  \n",
      " 39  2018         51 non-null     int64  \n",
      "dtypes: float64(35), int64(5)\n",
      "memory usage: 16.3+ KB\n"
     ]
    }
   ],
   "source": [
    "devscaled.info()"
   ],
   "metadata": {
    "collapsed": false,
    "pycharm": {
     "name": "#%%\n"
    }
   }
  },
  {
   "cell_type": "code",
   "execution_count": 628,
   "outputs": [
    {
     "data": {
      "text/plain": "          Amount_Requested Application_Date   Loan_Title  \\\n8225641             8000.0       2018-09-29          car   \n19034336           20500.0       2018-05-17  credit_card   \n19034348            2000.0       2018-05-17        other   \n21303110           10000.0       2017-11-16       moving   \n10103547            1000.0       2014-12-15       moving   \n\n          Debt_to_Income_Ratio State Employment_Length  Policy_Code  Accepted  \\\n8225641                   2.50    AK          < 1 year          0.0         0   \n19034336                 72.48    AK          < 1 year          0.0         0   \n19034348                  1.58    AK          < 1 year          0.0         0   \n21303110                  4.58    AK          < 1 year          0.0         0   \n10103547                 23.56    AK          < 1 year          0.0         0   \n\n          Year  \n8225641   2018  \n19034336  2018  \n19034348  2018  \n21303110  2017  \n10103547  2014  ",
      "text/html": "<div>\n<style scoped>\n    .dataframe tbody tr th:only-of-type {\n        vertical-align: middle;\n    }\n\n    .dataframe tbody tr th {\n        vertical-align: top;\n    }\n\n    .dataframe thead th {\n        text-align: right;\n    }\n</style>\n<table border=\"1\" class=\"dataframe\">\n  <thead>\n    <tr style=\"text-align: right;\">\n      <th></th>\n      <th>Amount_Requested</th>\n      <th>Application_Date</th>\n      <th>Loan_Title</th>\n      <th>Debt_to_Income_Ratio</th>\n      <th>State</th>\n      <th>Employment_Length</th>\n      <th>Policy_Code</th>\n      <th>Accepted</th>\n      <th>Year</th>\n    </tr>\n  </thead>\n  <tbody>\n    <tr>\n      <th>8225641</th>\n      <td>8000.0</td>\n      <td>2018-09-29</td>\n      <td>car</td>\n      <td>2.50</td>\n      <td>AK</td>\n      <td>&lt; 1 year</td>\n      <td>0.0</td>\n      <td>0</td>\n      <td>2018</td>\n    </tr>\n    <tr>\n      <th>19034336</th>\n      <td>20500.0</td>\n      <td>2018-05-17</td>\n      <td>credit_card</td>\n      <td>72.48</td>\n      <td>AK</td>\n      <td>&lt; 1 year</td>\n      <td>0.0</td>\n      <td>0</td>\n      <td>2018</td>\n    </tr>\n    <tr>\n      <th>19034348</th>\n      <td>2000.0</td>\n      <td>2018-05-17</td>\n      <td>other</td>\n      <td>1.58</td>\n      <td>AK</td>\n      <td>&lt; 1 year</td>\n      <td>0.0</td>\n      <td>0</td>\n      <td>2018</td>\n    </tr>\n    <tr>\n      <th>21303110</th>\n      <td>10000.0</td>\n      <td>2017-11-16</td>\n      <td>moving</td>\n      <td>4.58</td>\n      <td>AK</td>\n      <td>&lt; 1 year</td>\n      <td>0.0</td>\n      <td>0</td>\n      <td>2017</td>\n    </tr>\n    <tr>\n      <th>10103547</th>\n      <td>1000.0</td>\n      <td>2014-12-15</td>\n      <td>moving</td>\n      <td>23.56</td>\n      <td>AK</td>\n      <td>&lt; 1 year</td>\n      <td>0.0</td>\n      <td>0</td>\n      <td>2014</td>\n    </tr>\n  </tbody>\n</table>\n</div>"
     },
     "execution_count": 628,
     "metadata": {},
     "output_type": "execute_result"
    }
   ],
   "source": [
    "lc_all['Year']=lc_all['Application_Date'].str.extract('(\\d{4})', expand=False)\n",
    "lc_all.head()"
   ],
   "metadata": {
    "collapsed": false,
    "pycharm": {
     "name": "#%%\n"
    }
   }
  },
  {
   "cell_type": "code",
   "execution_count": 629,
   "outputs": [],
   "source": [
    "#add a State_Category column to the lc_all dataframe by the year and the state in the devscaled dataframe\n",
    "lc_all['State_Category']=lc_all.apply(lambda x: devscaled.loc[x['State'], x['Year']], axis=1)\n"
   ],
   "metadata": {
    "collapsed": false,
    "pycharm": {
     "name": "#%%\n"
    }
   }
  },
  {
   "cell_type": "code",
   "execution_count": 630,
   "outputs": [
    {
     "data": {
      "text/plain": "          Amount_Requested Application_Date          Loan_Title  \\\n8225641             8000.0       2018-09-29                 car   \n19034336           20500.0       2018-05-17         credit_card   \n19034348            2000.0       2018-05-17               other   \n21303110           10000.0       2017-11-16              moving   \n10103547            1000.0       2014-12-15              moving   \n...                    ...              ...                 ...   \n22803384           15000.0       2015-04-01  debt_consolidation   \n10965813            3500.0       2018-02-06  debt_consolidation   \n18066642           10000.0       2018-04-13  debt_consolidation   \n14171438            2500.0       2016-01-10  debt_consolidation   \n8711540            35000.0       2014-04-24  debt_consolidation   \n\n          Debt_to_Income_Ratio State Employment_Length  Policy_Code  Accepted  \\\n8225641                   2.50    AK          < 1 year          0.0         0   \n19034336                 72.48    AK          < 1 year          0.0         0   \n19034348                  1.58    AK          < 1 year          0.0         0   \n21303110                  4.58    AK          < 1 year          0.0         0   \n10103547                 23.56    AK          < 1 year          0.0         0   \n...                        ...   ...               ...          ...       ...   \n22803384                  3.82    AK                 0          0.0         0   \n10965813                 23.41    AK          < 1 year          0.0         0   \n18066642                 49.44    AK          < 1 year          0.0         0   \n14171438                 14.52    AK          < 1 year          0.0         0   \n8711540                  35.00    AK          < 1 year          0.0         0   \n\n          Year  State_Category  \n8225641   2018               3  \n19034336  2018               3  \n19034348  2018               3  \n21303110  2017               3  \n10103547  2014               3  \n...        ...             ...  \n22803384  2015               3  \n10965813  2018               3  \n18066642  2018               3  \n14171438  2016               3  \n8711540   2014               3  \n\n[10000 rows x 10 columns]",
      "text/html": "<div>\n<style scoped>\n    .dataframe tbody tr th:only-of-type {\n        vertical-align: middle;\n    }\n\n    .dataframe tbody tr th {\n        vertical-align: top;\n    }\n\n    .dataframe thead th {\n        text-align: right;\n    }\n</style>\n<table border=\"1\" class=\"dataframe\">\n  <thead>\n    <tr style=\"text-align: right;\">\n      <th></th>\n      <th>Amount_Requested</th>\n      <th>Application_Date</th>\n      <th>Loan_Title</th>\n      <th>Debt_to_Income_Ratio</th>\n      <th>State</th>\n      <th>Employment_Length</th>\n      <th>Policy_Code</th>\n      <th>Accepted</th>\n      <th>Year</th>\n      <th>State_Category</th>\n    </tr>\n  </thead>\n  <tbody>\n    <tr>\n      <th>8225641</th>\n      <td>8000.0</td>\n      <td>2018-09-29</td>\n      <td>car</td>\n      <td>2.50</td>\n      <td>AK</td>\n      <td>&lt; 1 year</td>\n      <td>0.0</td>\n      <td>0</td>\n      <td>2018</td>\n      <td>3</td>\n    </tr>\n    <tr>\n      <th>19034336</th>\n      <td>20500.0</td>\n      <td>2018-05-17</td>\n      <td>credit_card</td>\n      <td>72.48</td>\n      <td>AK</td>\n      <td>&lt; 1 year</td>\n      <td>0.0</td>\n      <td>0</td>\n      <td>2018</td>\n      <td>3</td>\n    </tr>\n    <tr>\n      <th>19034348</th>\n      <td>2000.0</td>\n      <td>2018-05-17</td>\n      <td>other</td>\n      <td>1.58</td>\n      <td>AK</td>\n      <td>&lt; 1 year</td>\n      <td>0.0</td>\n      <td>0</td>\n      <td>2018</td>\n      <td>3</td>\n    </tr>\n    <tr>\n      <th>21303110</th>\n      <td>10000.0</td>\n      <td>2017-11-16</td>\n      <td>moving</td>\n      <td>4.58</td>\n      <td>AK</td>\n      <td>&lt; 1 year</td>\n      <td>0.0</td>\n      <td>0</td>\n      <td>2017</td>\n      <td>3</td>\n    </tr>\n    <tr>\n      <th>10103547</th>\n      <td>1000.0</td>\n      <td>2014-12-15</td>\n      <td>moving</td>\n      <td>23.56</td>\n      <td>AK</td>\n      <td>&lt; 1 year</td>\n      <td>0.0</td>\n      <td>0</td>\n      <td>2014</td>\n      <td>3</td>\n    </tr>\n    <tr>\n      <th>...</th>\n      <td>...</td>\n      <td>...</td>\n      <td>...</td>\n      <td>...</td>\n      <td>...</td>\n      <td>...</td>\n      <td>...</td>\n      <td>...</td>\n      <td>...</td>\n      <td>...</td>\n    </tr>\n    <tr>\n      <th>22803384</th>\n      <td>15000.0</td>\n      <td>2015-04-01</td>\n      <td>debt_consolidation</td>\n      <td>3.82</td>\n      <td>AK</td>\n      <td>0</td>\n      <td>0.0</td>\n      <td>0</td>\n      <td>2015</td>\n      <td>3</td>\n    </tr>\n    <tr>\n      <th>10965813</th>\n      <td>3500.0</td>\n      <td>2018-02-06</td>\n      <td>debt_consolidation</td>\n      <td>23.41</td>\n      <td>AK</td>\n      <td>&lt; 1 year</td>\n      <td>0.0</td>\n      <td>0</td>\n      <td>2018</td>\n      <td>3</td>\n    </tr>\n    <tr>\n      <th>18066642</th>\n      <td>10000.0</td>\n      <td>2018-04-13</td>\n      <td>debt_consolidation</td>\n      <td>49.44</td>\n      <td>AK</td>\n      <td>&lt; 1 year</td>\n      <td>0.0</td>\n      <td>0</td>\n      <td>2018</td>\n      <td>3</td>\n    </tr>\n    <tr>\n      <th>14171438</th>\n      <td>2500.0</td>\n      <td>2016-01-10</td>\n      <td>debt_consolidation</td>\n      <td>14.52</td>\n      <td>AK</td>\n      <td>&lt; 1 year</td>\n      <td>0.0</td>\n      <td>0</td>\n      <td>2016</td>\n      <td>3</td>\n    </tr>\n    <tr>\n      <th>8711540</th>\n      <td>35000.0</td>\n      <td>2014-04-24</td>\n      <td>debt_consolidation</td>\n      <td>35.00</td>\n      <td>AK</td>\n      <td>&lt; 1 year</td>\n      <td>0.0</td>\n      <td>0</td>\n      <td>2014</td>\n      <td>3</td>\n    </tr>\n  </tbody>\n</table>\n<p>10000 rows × 10 columns</p>\n</div>"
     },
     "execution_count": 630,
     "metadata": {},
     "output_type": "execute_result"
    }
   ],
   "source": [
    "lc_all.head(10000)"
   ],
   "metadata": {
    "collapsed": false,
    "pycharm": {
     "name": "#%%\n"
    }
   }
  },
  {
   "cell_type": "code",
   "execution_count": 631,
   "outputs": [],
   "source": [
    "#save rankings to a file\n",
    "lc_all.to_csv('loan_denials_all.csv', index=False)"
   ],
   "metadata": {
    "collapsed": false,
    "pycharm": {
     "name": "#%%\n"
    }
   }
  }
 ],
 "metadata": {
  "kernelspec": {
   "display_name": "Python 3 (ipykernel)",
   "language": "python",
   "name": "python3"
  },
  "language_info": {
   "codemirror_mode": {
    "name": "ipython",
    "version": 3
   },
   "file_extension": ".py",
   "mimetype": "text/x-python",
   "name": "python",
   "nbconvert_exporter": "python",
   "pygments_lexer": "ipython3",
   "version": "3.9.12"
  }
 },
 "nbformat": 4,
 "nbformat_minor": 1
}